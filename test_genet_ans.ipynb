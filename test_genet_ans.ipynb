{
 "cells": [
  {
   "cell_type": "code",
   "execution_count": 1,
   "metadata": {},
   "outputs": [],
   "source": [
    "import genet\n",
    "from genet import analysis as ans\n",
    "import os, sys, regex, glob, shutil, itertools, time, subprocess\n",
    "import pandas as pd\n",
    "import multiprocessing as mp\n",
    "from Bio import SeqIO\n",
    "from tqdm import tqdm\n",
    "from genet.utils import *"
   ]
  },
  {
   "cell_type": "code",
   "execution_count": 2,
   "metadata": {},
   "outputs": [],
   "source": [
    "class SortByBarcodes:\n",
    "    '''# SortByBarcodes\n",
    "\n",
    "    This class makes new fastq files only containing specific barcode sequences.\n",
    "    The barcode list should be input files as DNA sequences.\n",
    "    The barcode pattern is string based on regular expressions.\n",
    "\n",
    "    #### Example\n",
    "    >>> from genet import analysis as ans\n",
    "    >>> ans.SortByBarcodes('./MyNGS.fastq', './Barcode_pattern.csv', 'TCGTATGCCGTCTTCTGCTTG[ATGC]{14}', n_cores=10)\n",
    "\n",
    "    The output file will be generated in current working directory in default.\n",
    "    If you want to save your output at other path, you can set the 'output_path' option.\n",
    "\n",
    "    #### Example\n",
    "    >>> ans.SortByBarcodes(seq_file='./MyNGS.fastq',\n",
    "                           barcode_file='./Barcode_pattern.csv',\n",
    "                           barcode_pattern='TCGTATGCCGTCTTCTGCTTG[ATGC]{14}', \n",
    "                           output_name='My_sorted_data',\n",
    "                           output_path='/extdata/mydir/results',\n",
    "                           n_cores=20\n",
    "                           )\n",
    "    '''\n",
    "    \n",
    "    def __init__(self,\n",
    "                 seq_file:str,\n",
    "                 barcode_file:str,\n",
    "                 barcode_pattern:str = None,\n",
    "                 output_name:str = 'barcode_sorted', \n",
    "                 output_path:str = './',\n",
    "                 data_format:str = 'fastq',\n",
    "                 output_format:str = 'fastq',\n",
    "                 n_cores:int = int(mp.cpu_count()*0.5),\n",
    "                 remove_temp_files:bool = True,\n",
    "                 silence:bool = False,\n",
    "                 ):\n",
    "\n",
    "        # check input types\n",
    "        if n_cores > mp.cpu_count():\n",
    "            sys.exit('n_core should be lower than the number of cores which your machine has')\n",
    "        \n",
    "        # make temp file directory to save split fastq files\n",
    "        self.sTEMP_DIR = '%s/%s_temp' % (output_path, output_name)\n",
    "        os.makedirs(output_path, exist_ok=True)\n",
    "        os.makedirs(self.sTEMP_DIR, exist_ok=True)\n",
    "\n",
    "        # load barcode and data files\n",
    "        # self.df_bc    = pd.read_csv(barcode_file, names=['id', 'barcode'])\n",
    "        \n",
    "        '''legacy code - 문제 없으면 삭제 예정\n",
    "        self.records  = list(SeqIO.parse(open(seq_file), data_format))\n",
    "        self.total    = len(self.records)\n",
    "        \n",
    "        # split fastq file\n",
    "        list_nBins = [[int(self.total * (i + 0) / n_cores), int(self.total * (i + 1) / n_cores)] for i in range(n_cores)]\n",
    "        self.list_sParameters = []\n",
    "        \n",
    "        for nStart, nEnd in list_nBins:\n",
    "            if silence == False: print('[Info] Make data subsplits: %s - %s' % (nStart, nEnd))\n",
    "            list_sSubSplits = self.records[nStart:nEnd]\n",
    "            sSplit_fastq_DIR = '%s/idx_%s-%s' % (self.sTEMP_DIR, nStart, nEnd)\n",
    "            os.makedirs(sSplit_fastq_DIR, exist_ok=True)\n",
    "            SeqIO.write(list_sSubSplits, '%s/_subsplits.%s' % (sSplit_fastq_DIR, output_format), output_format)\n",
    "            self.list_sParameters.append([self.df_bc, barcode_pattern, nStart, nEnd, sSplit_fastq_DIR, output_format, silence])\n",
    "            del list_sSubSplits\n",
    "        \n",
    "        del self.records\n",
    "\n",
    "        '''\n",
    "\n",
    "        # now this functiona only available for fastq input file\n",
    "        '''\n",
    "        with open(seq_file, 'r') as f:\n",
    "            lines   = f.readlines()\n",
    "            total   = len(lines)\n",
    "            lineset = 4\n",
    "            rec_cnt = total / lineset\n",
    "\n",
    "            list_nBins = [[int(rec_cnt * (i + 0) / n_cores), int(rec_cnt * (i + 1) / n_cores)] for i in range(n_cores)]\n",
    "            \n",
    "            for nStart, nEnd in list_nBins:\n",
    "                if silence == False: print('[Info] Make data subsplits: %s - %s' % (nStart, nEnd))\n",
    "                sSplit_fastq_DIR = '%s/idx_%s-%s' % (self.sTEMP_DIR, nStart, nEnd)\n",
    "                os.makedirs(sSplit_fastq_DIR, exist_ok=True)\n",
    "\n",
    "                sSplit_file_name = '%s/_subsplits.%s' % (sSplit_fastq_DIR, output_format)\n",
    "                with open(sSplit_file_name, 'w') as outfile:\n",
    "                    for l in lines[nStart*lineset:nEnd*lineset]: outfile.write(l)\n",
    "        '''\n",
    "        genet.utils.split_fastq(seq_file, n_cores, \n",
    "                                out_path=output_path, \n",
    "                                out_name=output_name, \n",
    "                                silence=silence)"
   ]
  },
  {
   "cell_type": "code",
   "execution_count": 3,
   "metadata": {},
   "outputs": [
    {
     "name": "stdout",
     "output_type": "stream",
     "text": [
      "[Info] Make data subsplits: 0 - 3263\n",
      "[Info] Make data subsplits: 3263 - 6526\n",
      "[Info] Make data subsplits: 6526 - 9790\n",
      "[Info] Make data subsplits: 9790 - 13053\n",
      "[Info] Make data subsplits: 13053 - 16316\n",
      "[Info] Make data subsplits: 16316 - 19580\n",
      "[Info] Make data subsplits: 19580 - 22843\n",
      "[Info] Make data subsplits: 22843 - 26107\n"
     ]
    },
    {
     "data": {
      "text/plain": [
       "<__main__.SortByBarcodes at 0x22705521ca0>"
      ]
     },
     "execution_count": 3,
     "metadata": {},
     "output_type": "execute_result"
    }
   ],
   "source": [
    "SortByBarcodes('./test_sample.fastq', '')"
   ]
  },
  {
   "cell_type": "code",
   "execution_count": null,
   "metadata": {},
   "outputs": [],
   "source": []
  }
 ],
 "metadata": {
  "kernelspec": {
   "display_name": "genet",
   "language": "python",
   "name": "python3"
  },
  "language_info": {
   "codemirror_mode": {
    "name": "ipython",
    "version": 3
   },
   "file_extension": ".py",
   "mimetype": "text/x-python",
   "name": "python",
   "nbconvert_exporter": "python",
   "pygments_lexer": "ipython3",
   "version": "3.8.13"
  },
  "orig_nbformat": 4,
  "vscode": {
   "interpreter": {
    "hash": "ad333f69f1d349cc4ee014c46a9ac73e8a7331a44020b2a0d8d29b366c987199"
   }
  }
 },
 "nbformat": 4,
 "nbformat_minor": 2
}
