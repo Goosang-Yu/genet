{
 "cells": [
  {
   "cell_type": "code",
   "execution_count": 1,
   "metadata": {},
   "outputs": [
    {
     "name": "stdout",
     "output_type": "stream",
     "text": [
      "The model DeepSpCas9 is not installed. Download checkpoint files.\n",
      "\n"
     ]
    },
    {
     "name": "stderr",
     "output_type": "stream",
     "text": [
      "Downloading: 0KB [00:00, ?KB/s]\n"
     ]
    },
    {
     "name": "stdout",
     "output_type": "stream",
     "text": [
      "File downloaded successfully: c:\\Users\\home\\Documents\\GitHub\\genet\\genet\\models\\DeepSpCas9/__init__.py\n"
     ]
    },
    {
     "name": "stderr",
     "output_type": "stream",
     "text": [
      "Downloading: 681KB [00:00, 1495.85KB/s]                         \n"
     ]
    },
    {
     "name": "stdout",
     "output_type": "stream",
     "text": [
      "File downloaded successfully: c:\\Users\\home\\Documents\\GitHub\\genet\\genet\\models\\DeepSpCas9/PreTrain-Final-3-5-7-100-70-40-0.001-550-80-60.data-00000-of-00001\n"
     ]
    },
    {
     "name": "stderr",
     "output_type": "stream",
     "text": [
      "Downloading: 1KB [00:00, ?KB/s]\n"
     ]
    },
    {
     "name": "stdout",
     "output_type": "stream",
     "text": [
      "File downloaded successfully: c:\\Users\\home\\Documents\\GitHub\\genet\\genet\\models\\DeepSpCas9/PreTrain-Final-3-5-7-100-70-40-0.001-550-80-60.index\n"
     ]
    },
    {
     "name": "stderr",
     "output_type": "stream",
     "text": [
      "Downloading: 29KB [00:00, 240.87KB/s]                        \n"
     ]
    },
    {
     "name": "stdout",
     "output_type": "stream",
     "text": [
      "File downloaded successfully: c:\\Users\\home\\Documents\\GitHub\\genet\\genet\\models\\DeepSpCas9/PreTrain-Final-3-5-7-100-70-40-0.001-550-80-60.meta\n"
     ]
    },
    {
     "ename": "OSError",
     "evalue": "SavedModel file does not exist at: c:\\Users\\home\\Documents\\GitHub\\genet\\genet\\models\\DeepSpCas9\\{saved_model.pbtxt|saved_model.pb}",
     "output_type": "error",
     "traceback": [
      "\u001b[1;31m---------------------------------------------------------------------------\u001b[0m",
      "\u001b[1;31mOSError\u001b[0m                                   Traceback (most recent call last)",
      "Cell \u001b[1;32mIn[1], line 10\u001b[0m\n\u001b[0;32m      1\u001b[0m \u001b[39mfrom\u001b[39;00m \u001b[39mgenet\u001b[39;00m \u001b[39mimport\u001b[39;00m predict_dev \u001b[39mas\u001b[39;00m prd\n\u001b[0;32m      3\u001b[0m list_target30 \u001b[39m=\u001b[39m [\n\u001b[0;32m      4\u001b[0m                 \u001b[39m'\u001b[39m\u001b[39mTCACCTTCGTTTTTTTCCTTCTGCAGGAGG\u001b[39m\u001b[39m'\u001b[39m,\n\u001b[0;32m      5\u001b[0m                 \u001b[39m'\u001b[39m\u001b[39mCCTTCGTTTTTTTCCTTCTGCAGGAGGACA\u001b[39m\u001b[39m'\u001b[39m,\n\u001b[0;32m      6\u001b[0m                 \u001b[39m'\u001b[39m\u001b[39mCTTTCAAGAACTCTTCCACCTCCATGGTGT\u001b[39m\u001b[39m'\u001b[39m,\n\u001b[0;32m      7\u001b[0m                 ]\n\u001b[1;32m---> 10\u001b[0m df \u001b[39m=\u001b[39m prd\u001b[39m.\u001b[39;49mspcas9_score_tf2(list_target30)\n\u001b[0;32m     11\u001b[0m df\n",
      "File \u001b[1;32mc:\\Users\\home\\Documents\\GitHub\\genet\\genet\\predict_dev\\functional_dev.py:55\u001b[0m, in \u001b[0;36mspcas9_score_tf2\u001b[1;34m(list_target30, gpu_env)\u001b[0m\n\u001b[0;32m     53\u001b[0m model_save \u001b[39m=\u001b[39m \u001b[39m'\u001b[39m\u001b[39m%s\u001b[39;00m\u001b[39m/\u001b[39m\u001b[39m%s\u001b[39;00m\u001b[39m'\u001b[39m \u001b[39m%\u001b[39m (model_dir, best_model)\n\u001b[0;32m     54\u001b[0m \u001b[39m# final_model =  tf.keras.models.load_model(model_save,compile=False)\u001b[39;00m\n\u001b[1;32m---> 55\u001b[0m final_model \u001b[39m=\u001b[39m  tf\u001b[39m.\u001b[39;49msaved_model\u001b[39m.\u001b[39;49mload(model_dir)\n\u001b[0;32m     57\u001b[0m output \u001b[39m=\u001b[39m final_model\u001b[39m.\u001b[39msignatures[\u001b[39m'\u001b[39m\u001b[39mserving_default\u001b[39m\u001b[39m'\u001b[39m](input_1\u001b[39m=\u001b[39mtf\u001b[39m.\u001b[39mconstant(input_data))[\u001b[39m'\u001b[39m\u001b[39mdense_2\u001b[39m\u001b[39m'\u001b[39m]\n\u001b[0;32m     60\u001b[0m dataset_ \u001b[39m=\u001b[39m pd\u001b[39m.\u001b[39mDataFrame()\n",
      "File \u001b[1;32mc:\\Users\\home\\anaconda3\\envs\\genet\\lib\\site-packages\\tensorflow\\python\\saved_model\\load.py:936\u001b[0m, in \u001b[0;36mload\u001b[1;34m(export_dir, tags, options)\u001b[0m\n\u001b[0;32m    845\u001b[0m \u001b[39m@tf_export\u001b[39m(\u001b[39m\"\u001b[39m\u001b[39msaved_model.load\u001b[39m\u001b[39m\"\u001b[39m, v1\u001b[39m=\u001b[39m[\u001b[39m\"\u001b[39m\u001b[39msaved_model.load_v2\u001b[39m\u001b[39m\"\u001b[39m])\n\u001b[0;32m    846\u001b[0m \u001b[39mdef\u001b[39;00m \u001b[39mload\u001b[39m(export_dir, tags\u001b[39m=\u001b[39m\u001b[39mNone\u001b[39;00m, options\u001b[39m=\u001b[39m\u001b[39mNone\u001b[39;00m):\n\u001b[0;32m    847\u001b[0m \u001b[39m  \u001b[39m\u001b[39m\"\"\"Load a SavedModel from `export_dir`.\u001b[39;00m\n\u001b[0;32m    848\u001b[0m \n\u001b[0;32m    849\u001b[0m \u001b[39m  Signatures associated with the SavedModel are available as functions:\u001b[39;00m\n\u001b[1;32m   (...)\u001b[0m\n\u001b[0;32m    934\u001b[0m \u001b[39m    ValueError: If `tags` don't match a MetaGraph in the SavedModel.\u001b[39;00m\n\u001b[0;32m    935\u001b[0m \u001b[39m  \"\"\"\u001b[39;00m\n\u001b[1;32m--> 936\u001b[0m   result \u001b[39m=\u001b[39m load_internal(export_dir, tags, options)[\u001b[39m\"\u001b[39m\u001b[39mroot\u001b[39m\u001b[39m\"\u001b[39m]\n\u001b[0;32m    937\u001b[0m   \u001b[39mreturn\u001b[39;00m result\n",
      "File \u001b[1;32mc:\\Users\\home\\anaconda3\\envs\\genet\\lib\\site-packages\\tensorflow\\python\\saved_model\\load.py:949\u001b[0m, in \u001b[0;36mload_internal\u001b[1;34m(export_dir, tags, options, loader_cls, filters)\u001b[0m\n\u001b[0;32m    944\u001b[0m \u001b[39mif\u001b[39;00m tags \u001b[39mis\u001b[39;00m \u001b[39mnot\u001b[39;00m \u001b[39mNone\u001b[39;00m \u001b[39mand\u001b[39;00m \u001b[39mnot\u001b[39;00m \u001b[39misinstance\u001b[39m(tags, \u001b[39mset\u001b[39m):\n\u001b[0;32m    945\u001b[0m   \u001b[39m# Supports e.g. tags=SERVING and tags=[SERVING]. Sets aren't considered\u001b[39;00m\n\u001b[0;32m    946\u001b[0m   \u001b[39m# sequences for nest.flatten, so we put those through as-is.\u001b[39;00m\n\u001b[0;32m    947\u001b[0m   tags \u001b[39m=\u001b[39m nest\u001b[39m.\u001b[39mflatten(tags)\n\u001b[0;32m    948\u001b[0m saved_model_proto, debug_info \u001b[39m=\u001b[39m (\n\u001b[1;32m--> 949\u001b[0m     loader_impl\u001b[39m.\u001b[39;49mparse_saved_model_with_debug_info(export_dir))\n\u001b[0;32m    951\u001b[0m \u001b[39mif\u001b[39;00m (\u001b[39mlen\u001b[39m(saved_model_proto\u001b[39m.\u001b[39mmeta_graphs) \u001b[39m==\u001b[39m \u001b[39m1\u001b[39m \u001b[39mand\u001b[39;00m\n\u001b[0;32m    952\u001b[0m     saved_model_proto\u001b[39m.\u001b[39mmeta_graphs[\u001b[39m0\u001b[39m]\u001b[39m.\u001b[39mHasField(\u001b[39m\"\u001b[39m\u001b[39mobject_graph_def\u001b[39m\u001b[39m\"\u001b[39m)):\n\u001b[0;32m    953\u001b[0m   metrics\u001b[39m.\u001b[39mIncrementReadApi(_LOAD_V2_LABEL)\n",
      "File \u001b[1;32mc:\\Users\\home\\anaconda3\\envs\\genet\\lib\\site-packages\\tensorflow\\python\\saved_model\\loader_impl.py:57\u001b[0m, in \u001b[0;36mparse_saved_model_with_debug_info\u001b[1;34m(export_dir)\u001b[0m\n\u001b[0;32m     44\u001b[0m \u001b[39mdef\u001b[39;00m \u001b[39mparse_saved_model_with_debug_info\u001b[39m(export_dir):\n\u001b[0;32m     45\u001b[0m \u001b[39m  \u001b[39m\u001b[39m\"\"\"Reads the savedmodel as well as the graph debug info.\u001b[39;00m\n\u001b[0;32m     46\u001b[0m \n\u001b[0;32m     47\u001b[0m \u001b[39m  Args:\u001b[39;00m\n\u001b[1;32m   (...)\u001b[0m\n\u001b[0;32m     55\u001b[0m \u001b[39m    parsed. Missing graph debug info file is fine.\u001b[39;00m\n\u001b[0;32m     56\u001b[0m \u001b[39m  \"\"\"\u001b[39;00m\n\u001b[1;32m---> 57\u001b[0m   saved_model \u001b[39m=\u001b[39m parse_saved_model(export_dir)\n\u001b[0;32m     59\u001b[0m   debug_info_path \u001b[39m=\u001b[39m file_io\u001b[39m.\u001b[39mjoin(\n\u001b[0;32m     60\u001b[0m       saved_model_utils\u001b[39m.\u001b[39mget_debug_dir(export_dir),\n\u001b[0;32m     61\u001b[0m       constants\u001b[39m.\u001b[39mDEBUG_INFO_FILENAME_PB)\n\u001b[0;32m     62\u001b[0m   debug_info \u001b[39m=\u001b[39m graph_debug_info_pb2\u001b[39m.\u001b[39mGraphDebugInfo()\n",
      "File \u001b[1;32mc:\\Users\\home\\anaconda3\\envs\\genet\\lib\\site-packages\\tensorflow\\python\\saved_model\\loader_impl.py:115\u001b[0m, in \u001b[0;36mparse_saved_model\u001b[1;34m(export_dir)\u001b[0m\n\u001b[0;32m    113\u001b[0m     \u001b[39mraise\u001b[39;00m \u001b[39mIOError\u001b[39;00m(\u001b[39mf\u001b[39m\u001b[39m\"\u001b[39m\u001b[39mCannot parse file \u001b[39m\u001b[39m{\u001b[39;00mpath_to_pbtxt\u001b[39m}\u001b[39;00m\u001b[39m: \u001b[39m\u001b[39m{\u001b[39;00m\u001b[39mstr\u001b[39m(e)\u001b[39m}\u001b[39;00m\u001b[39m.\u001b[39m\u001b[39m\"\u001b[39m)\n\u001b[0;32m    114\u001b[0m \u001b[39melse\u001b[39;00m:\n\u001b[1;32m--> 115\u001b[0m   \u001b[39mraise\u001b[39;00m \u001b[39mIOError\u001b[39;00m(\n\u001b[0;32m    116\u001b[0m       \u001b[39mf\u001b[39m\u001b[39m\"\u001b[39m\u001b[39mSavedModel file does not exist at: \u001b[39m\u001b[39m{\u001b[39;00mexport_dir\u001b[39m}\u001b[39;00m\u001b[39m{\u001b[39;00mos\u001b[39m.\u001b[39mpath\u001b[39m.\u001b[39msep\u001b[39m}\u001b[39;00m\u001b[39m\"\u001b[39m\n\u001b[0;32m    117\u001b[0m       \u001b[39mf\u001b[39m\u001b[39m\"\u001b[39m\u001b[39m{{\u001b[39;00m\u001b[39m{\u001b[39;00mconstants\u001b[39m.\u001b[39mSAVED_MODEL_FILENAME_PBTXT\u001b[39m}\u001b[39;00m\u001b[39m|\u001b[39m\u001b[39m\"\u001b[39m\n\u001b[0;32m    118\u001b[0m       \u001b[39mf\u001b[39m\u001b[39m\"\u001b[39m\u001b[39m{\u001b[39;00mconstants\u001b[39m.\u001b[39mSAVED_MODEL_FILENAME_PB\u001b[39m}\u001b[39;00m\u001b[39m}}\u001b[39;00m\u001b[39m\"\u001b[39m)\n",
      "\u001b[1;31mOSError\u001b[0m: SavedModel file does not exist at: c:\\Users\\home\\Documents\\GitHub\\genet\\genet\\models\\DeepSpCas9\\{saved_model.pbtxt|saved_model.pb}"
     ]
    }
   ],
   "source": [
    "from genet import predict_dev as prd\n",
    "\n",
    "list_target30 = [\n",
    "                'TCACCTTCGTTTTTTTCCTTCTGCAGGAGG',\n",
    "                'CCTTCGTTTTTTTCCTTCTGCAGGAGGACA',\n",
    "                'CTTTCAAGAACTCTTCCACCTCCATGGTGT',\n",
    "                ]\n",
    "\n",
    "\n",
    "df = prd.spcas9_score_tf2(list_target30)\n",
    "df\n"
   ]
  },
  {
   "cell_type": "code",
   "execution_count": 1,
   "metadata": {},
   "outputs": [
    {
     "name": "stdout",
     "output_type": "stream",
     "text": [
      "Type of model <class 'genet.predict_dev.functional_dev.Deep_xCas9'>\n"
     ]
    },
    {
     "ename": "ValueError",
     "evalue": "Expected `model` argument to be a `Model` instance. Received: model=<class 'genet.predict_dev.functional_dev.Deep_xCas9'>",
     "output_type": "error",
     "traceback": [
      "\u001b[1;31m---------------------------------------------------------------------------\u001b[0m",
      "\u001b[1;31mValueError\u001b[0m                                Traceback (most recent call last)",
      "Cell \u001b[1;32mIn[1], line 3\u001b[0m\n\u001b[0;32m      1\u001b[0m \u001b[39mfrom\u001b[39;00m \u001b[39mgenet\u001b[39;00m\u001b[39m.\u001b[39;00m\u001b[39mpredict_dev\u001b[39;00m \u001b[39mimport\u001b[39;00m spcas9_save\n\u001b[1;32m----> 3\u001b[0m spcas9_save(\u001b[39m'\u001b[39;49m\u001b[39m./\u001b[39;49m\u001b[39m'\u001b[39;49m)\n",
      "File \u001b[1;32mc:\\Users\\home\\Documents\\GitHub\\genet\\genet\\predict_dev\\functional_dev.py:179\u001b[0m, in \u001b[0;36mspcas9_save\u001b[1;34m(save_dir)\u001b[0m\n\u001b[0;32m    176\u001b[0m saver\u001b[39m.\u001b[39mrestore(sess, model_save)\n\u001b[0;32m    178\u001b[0m \u001b[39m# TensorFlow 2의 Keras 모델로 변환\u001b[39;00m\n\u001b[1;32m--> 179\u001b[0m keras_model \u001b[39m=\u001b[39m tf\u001b[39m.\u001b[39;49mkeras\u001b[39m.\u001b[39;49mmodels\u001b[39m.\u001b[39;49mclone_model(Deep_xCas9)\n\u001b[0;32m    180\u001b[0m keras_model\u001b[39m.\u001b[39mset_weights(sess\u001b[39m.\u001b[39mrun(tf\u001b[39m.\u001b[39mcompat\u001b[39m.\u001b[39mv1\u001b[39m.\u001b[39mtrainable_variables()))\n\u001b[0;32m    182\u001b[0m \u001b[39m# 모델을 .h5 파일로 저장\u001b[39;00m\n",
      "File \u001b[1;32mc:\\Users\\home\\anaconda3\\envs\\genet\\lib\\site-packages\\keras\\models.py:456\u001b[0m, in \u001b[0;36mclone_model\u001b[1;34m(model, input_tensors, clone_function)\u001b[0m\n\u001b[0;32m    453\u001b[0m   \u001b[39mreturn\u001b[39;00m _clone_sequential_model(\n\u001b[0;32m    454\u001b[0m       model, input_tensors\u001b[39m=\u001b[39minput_tensors, layer_fn\u001b[39m=\u001b[39mclone_function)\n\u001b[0;32m    455\u001b[0m \u001b[39melse\u001b[39;00m:\n\u001b[1;32m--> 456\u001b[0m   \u001b[39mreturn\u001b[39;00m _clone_functional_model(\n\u001b[0;32m    457\u001b[0m       model, input_tensors\u001b[39m=\u001b[39;49minput_tensors, layer_fn\u001b[39m=\u001b[39;49mclone_function)\n",
      "File \u001b[1;32mc:\\Users\\home\\anaconda3\\envs\\genet\\lib\\site-packages\\keras\\models.py:159\u001b[0m, in \u001b[0;36m_clone_functional_model\u001b[1;34m(model, input_tensors, layer_fn)\u001b[0m\n\u001b[0;32m    129\u001b[0m \u001b[39m\u001b[39m\u001b[39m\"\"\"Clone a functional `Model` instance.\u001b[39;00m\n\u001b[0;32m    130\u001b[0m \n\u001b[0;32m    131\u001b[0m \u001b[39mModel cloning is similar to calling a model on new inputs,\u001b[39;00m\n\u001b[1;32m   (...)\u001b[0m\n\u001b[0;32m    156\u001b[0m \u001b[39m    argument value.\u001b[39;00m\n\u001b[0;32m    157\u001b[0m \u001b[39m\"\"\"\u001b[39;00m\n\u001b[0;32m    158\u001b[0m \u001b[39mif\u001b[39;00m \u001b[39mnot\u001b[39;00m \u001b[39misinstance\u001b[39m(model, Model):\n\u001b[1;32m--> 159\u001b[0m   \u001b[39mraise\u001b[39;00m \u001b[39mValueError\u001b[39;00m(\u001b[39m'\u001b[39m\u001b[39mExpected `model` argument \u001b[39m\u001b[39m'\u001b[39m\n\u001b[0;32m    160\u001b[0m                    \u001b[39mf\u001b[39m\u001b[39m'\u001b[39m\u001b[39mto be a `Model` instance. Received: model=\u001b[39m\u001b[39m{\u001b[39;00mmodel\u001b[39m}\u001b[39;00m\u001b[39m'\u001b[39m)\n\u001b[0;32m    161\u001b[0m \u001b[39mif\u001b[39;00m \u001b[39misinstance\u001b[39m(model, Sequential):\n\u001b[0;32m    162\u001b[0m   \u001b[39mraise\u001b[39;00m \u001b[39mValueError\u001b[39;00m(\u001b[39m'\u001b[39m\u001b[39mExpected `model` argument \u001b[39m\u001b[39m'\u001b[39m\n\u001b[0;32m    163\u001b[0m                    \u001b[39m'\u001b[39m\u001b[39mto be a functional `Model` instance, \u001b[39m\u001b[39m'\u001b[39m\n\u001b[0;32m    164\u001b[0m                    \u001b[39mf\u001b[39m\u001b[39m'\u001b[39m\u001b[39mgot a `Sequential` instance instead: \u001b[39m\u001b[39m{\u001b[39;00mmodel\u001b[39m}\u001b[39;00m\u001b[39m'\u001b[39m)\n",
      "\u001b[1;31mValueError\u001b[0m: Expected `model` argument to be a `Model` instance. Received: model=<class 'genet.predict_dev.functional_dev.Deep_xCas9'>"
     ]
    }
   ],
   "source": [
    "from genet.predict_dev import spcas9_save\n",
    "\n",
    "spcas9_save('./')\n",
    "\n"
   ]
  },
  {
   "cell_type": "code",
   "execution_count": 2,
   "metadata": {},
   "outputs": [
    {
     "name": "stdout",
     "output_type": "stream",
     "text": [
      "The model DeepSpCas9 is not installed. Download checkpoint files.\n"
     ]
    },
    {
     "name": "stderr",
     "output_type": "stream",
     "text": [
      "Downloading: 0KB [00:00, ?KB/s]\n"
     ]
    },
    {
     "name": "stdout",
     "output_type": "stream",
     "text": [
      "File downloaded successfully: e:\\github_project\\genet\\genet\\models\\DeepSpCas9/__init__.py\n"
     ]
    },
    {
     "name": "stderr",
     "output_type": "stream",
     "text": [
      "Downloading: 681KB [00:00, 837.64KB/s]                         \n"
     ]
    },
    {
     "name": "stdout",
     "output_type": "stream",
     "text": [
      "File downloaded successfully: e:\\github_project\\genet\\genet\\models\\DeepSpCas9/PreTrain-Final-3-5-7-100-70-40-0.001-550-80-60.data-00000-of-00001\n"
     ]
    },
    {
     "name": "stderr",
     "output_type": "stream",
     "text": [
      "Downloading: 1KB [00:00, 496.78KB/s]\n"
     ]
    },
    {
     "name": "stdout",
     "output_type": "stream",
     "text": [
      "File downloaded successfully: e:\\github_project\\genet\\genet\\models\\DeepSpCas9/PreTrain-Final-3-5-7-100-70-40-0.001-550-80-60.index\n"
     ]
    },
    {
     "name": "stderr",
     "output_type": "stream",
     "text": [
      "Downloading: 29KB [00:00, 221.38KB/s]                      "
     ]
    },
    {
     "name": "stdout",
     "output_type": "stream",
     "text": [
      "File downloaded successfully: e:\\github_project\\genet\\genet\\models\\DeepSpCas9/PreTrain-Final-3-5-7-100-70-40-0.001-550-80-60.meta\n"
     ]
    },
    {
     "name": "stderr",
     "output_type": "stream",
     "text": [
      "\n"
     ]
    }
   ],
   "source": [
    "from genet.models import LoadModel\n",
    "\n",
    "model = LoadModel('SpCas9')"
   ]
  },
  {
   "cell_type": "code",
   "execution_count": null,
   "metadata": {},
   "outputs": [],
   "source": [
    "seq_wt   = 'ATGACAATAAAAGACAACACCCTTGCCTTGTGGAGTTTTCAAAGCTCCCAGAAACTGAGAAGAACTATAACCTGCAAATGTCAACTGAAACCTTAAAGTGAGTATTTAATTGAGCTGAAGT'\n",
    "seq_ed   = 'ATGACAATAAAAGACAACACCCTTGCCTTGTGGAGTTTTCAAAGCTCCCAGAAACTGAGACGAACTATAACCTGCAAATGTCAACTGAAACCTTAAAGTGAGTATTTAATTGAGCTGAAGT'\n",
    "alt_type = 'sub1'\n",
    "\n",
    "df_pe = prd.pe_score(seq_wt, seq_ed, alt_type)\n",
    "df_pe.head()"
   ]
  },
  {
   "cell_type": "code",
   "execution_count": null,
   "metadata": {},
   "outputs": [],
   "source": [
    "df_test = df_pe['Edited74_On'].str.replace('x', '')\n",
    "df_test"
   ]
  },
  {
   "cell_type": "code",
   "execution_count": null,
   "metadata": {},
   "outputs": [],
   "source": [
    "selected = ['WT74_On', 'PBSlen', 'RTlen', 'RT-PBSlen', 'Edit_pos', 'Edit_len', 'RHA_len', 'PE2max_score']\n",
    "df_pe_summary = df_pe[selected]\n",
    "df_pe_summary.insert(1, 'RT-PBSseq', list_rtpbs)"
   ]
  },
  {
   "cell_type": "code",
   "execution_count": null,
   "metadata": {},
   "outputs": [],
   "source": [
    "# genet ToDo\n",
    "\n",
    "# 1. output dataframe 간단하게 표현하기\n",
    "# 2. GetGene 불러와서 Base editing용 gRNA 디자인해주기"
   ]
  },
  {
   "cell_type": "code",
   "execution_count": 1,
   "metadata": {},
   "outputs": [],
   "source": [
    "import logging\n",
    "\n",
    "class LogStreamHandler(logging.StreamHandler):\n",
    "    def __init__(self, stream=None):\n",
    "        super().__init__(stream)\n",
    "        self.setFormatter(logging.Formatter(\n",
    "            '%(levelname)-5s @ %(asctime)s:\\n\\t %(message)s \\n',\n",
    "            datefmt='%a, %d %b %Y %H:%M:%S',\n",
    "        ))\n",
    "        self.setLevel(logging.INFO)\n",
    "\n",
    "class StatusFormatter(logging.Formatter):\n",
    "    def format(self, record):\n",
    "        record.percent_complete = ''\n",
    "        if record.args and 'percent_complete' in record.args:\n",
    "            record.percent_complete = '{0:.2f}% '.format(record.args['percent_complete'])\n",
    "            self.last_percent_complete = record.percent_complete\n",
    "        elif hasattr(self, 'last_percent_complete'): # if we don't have a percent complete, use the last one\n",
    "            record.percent_complete = self.last_percent_complete\n",
    "        return super().format(record)\n",
    "\n",
    "class StatusHandler(logging.FileHandler):\n",
    "    def __init__(self, filename):\n",
    "        super().__init__(filename, 'w')\n",
    "        self.setFormatter(StatusFormatter('%(percent_complete)s%(message)s'))\n",
    "\n",
    "    def emit(self, record):\n",
    "        \"\"\"Overwrite the existing file and write the new log.\"\"\"\n",
    "        if self.stream is None:  # log file is empty\n",
    "            self.stream = self._open()\n",
    "        else:  # log file is not empty, overwrite\n",
    "            self.stream.seek(0)\n",
    "        logging.StreamHandler.emit(self, record)\n",
    "        self.stream.truncate()\n"
   ]
  },
  {
   "cell_type": "code",
   "execution_count": 4,
   "metadata": {},
   "outputs": [],
   "source": [
    "import logging, os, sys\n",
    "import genet\n",
    "\n",
    "class DeepPrime:\n",
    "    '''\n",
    "    DeepPrime: pegRNA activity prediction models\\n\n",
    "    Input  = 121 nt DNA sequence without edit\\n\n",
    "    Output = 121 nt DNA sequence with edit\\n\n",
    "    \n",
    "    ### Available Edit types\\n\n",
    "    sub1, sub2, sub3, ins1, ins2, ins3, del1, del2, del3\\n\n",
    "    \n",
    "    ### Available PE systems\\n\n",
    "    PE2, PE2max, PE4max, NRCH_PE2, NRCH_PE2max, NRCH_PE4max\\n\n",
    "    \n",
    "    ### Available Cell types\\n\n",
    "    HEK293T, HCT116, MDA-MB-231, HeLa, DLD1, A549, NIH3T3\n",
    "    \n",
    "    '''\n",
    "    def __init__(self, sID:str, Ref_seq: str, ED_seq: str, edit_type: str, edit_len: int,\n",
    "                pam:str = 'NGG', pbs_min:int = 7, pbs_max:int = 15,\n",
    "                rtt_min:int = 0, rtt_max:int = 40, silence:bool = False,\n",
    "                out_dir:str=os.getcwd(),\n",
    "                ):\n",
    "        \n",
    "        # input parameters\n",
    "        self.nAltIndex = 60\n",
    "        self.sID, self.Ref_seq, self.ED_seq = sID, Ref_seq, ED_seq\n",
    "        self.edit_type, self.edit_len, self.pam = edit_type, edit_len, pam\n",
    "        self.pbs_min, self.pbs_max = pbs_min, pbs_max\n",
    "        self.pbs_range = [pbs_min, pbs_max]\n",
    "        self.rtt_min, self.rtt_max   = rtt_min, rtt_max\n",
    "        self.silence = silence\n",
    "        \n",
    "        # output directory\n",
    "        self.OUT_PATH = '%s/%s/'  % (out_dir, self.sID)\n",
    "        self.TEMP_DIR = '%s/temp' % self.OUT_PATH\n",
    "        \n",
    "        # initializing\n",
    "        self.set_logging()\n",
    "        self.check_input()\n",
    "\n",
    "        ## FeatureExtraction Class\n",
    "        cFeat = FeatureExtraction()\n",
    "\n",
    "        cFeat.input_id = sID\n",
    "        cFeat.get_input(Ref_seq, ED_seq, edit_type, edit_len)\n",
    "\n",
    "        cFeat.get_sAltNotation(nAltIndex)\n",
    "        cFeat.get_all_RT_PBS(nAltIndex, nMinPBS=pbs_range[0]-1, nMaxPBS=pbs_range[1], nMaxRT=rtt_max, pe_system=pe_system)\n",
    "        cFeat.make_rt_pbs_combinations()\n",
    "        cFeat.determine_seqs()\n",
    "        cFeat.determine_secondary_structure()\n",
    "\n",
    "        self.features = cFeat.make_output_df()\n",
    "        \n",
    "        del cFeat\n",
    "\n",
    "\n",
    "        self.logger.info('Created an instance of DeepPrime')\n",
    "\n",
    "    # def __init__: END\n",
    "\n",
    "\n",
    "    def submit(self, pe_system:str, cell_type:str = 'HEK293T'):\n",
    "        print('start pe_scre', self.Ref_seq, self.ED_seq, )\n",
    "\n",
    "        return None\n",
    "\n",
    "    # def submit: END\n",
    "\n",
    "\n",
    "    def set_logging(self):\n",
    "\n",
    "        self.logger = logging.getLogger(self.OUT_PATH)\n",
    "        self.logger.setLevel(logging.DEBUG)\n",
    "\n",
    "        self.formatter = logging.Formatter(\n",
    "            '%(levelname)-5s @ %(asctime)s:\\n\\t %(message)s \\n',\n",
    "            datefmt='%a, %d %b %Y %H:%M:%S',\n",
    "            )\n",
    "        \n",
    "        self.error = self.logger.error\n",
    "        self.warn  = self.logger.warn\n",
    "        self.debug = self.logger.debug\n",
    "        self.info  = self.logger.info\n",
    "\n",
    "        try:\n",
    "            os.makedirs(self.OUT_PATH, exist_ok=True)\n",
    "            os.makedirs(self.TEMP_DIR, exist_ok=True)\n",
    "            self.info('Creating Folder %s' % self.OUT_PATH)\n",
    "        except:\n",
    "            self.error('Creating Folder failed')\n",
    "            sys.exit(1)\n",
    "            \n",
    "        self.file_handler = logging.FileHandler('%s/log_%s.log' % (self.OUT_PATH, self.sID))\n",
    "        self.file_handler.setLevel(logging.DEBUG)\n",
    "        self.file_handler.setFormatter(self.formatter)\n",
    "        self.logger.addHandler(self.file_handler)\n",
    "        \n",
    "        if self.silence != True:\n",
    "            self.console_handler = logging.StreamHandler()\n",
    "            self.console_handler.setLevel(logging.DEBUG)\n",
    "            self.console_handler.setFormatter(self.formatter)\n",
    "            self.logger.addHandler(self.console_handler)\n",
    "\n",
    "        self.info('DeepPrime: pegRNA activity prediction models\\n\\t version: %s' % genet.__version__)\n",
    "\n",
    "\n",
    "        return None\n",
    "\n",
    "    # def set_logging: END\n",
    "\n",
    "\n",
    "    def check_input(self):\n",
    "        \n",
    "        if self.pbs_min < 1:\n",
    "            self.error('sID:%s\\nPlease set PBS max length at least 1nt' % self.sID)\n",
    "            raise ValueError('Please check your input: pbs_min')\n",
    "        \n",
    "        if self.pbs_max > 17:\n",
    "            self.error('sID:%s\\nPlease set PBS max length upto 17nt' % self.sID)\n",
    "            raise ValueError('Please check your input: pbs_max')\n",
    "        \n",
    "        if self.rtt_max > 40:\n",
    "            self.error('sID:%s\\nPlease set RTT max length upto 40nt' % self.sID)\n",
    "            raise ValueError('Please check your input: rtt_max')\n",
    "\n",
    "        if self.edit_type not in ['sub', 'ins', 'del']:\n",
    "            self.error('sID:%s\\n\\t Please select proper edit type.\\n\\t Available edit tyle: sub, ins, del' % self.sID)\n",
    "            raise ValueError('Please check your input: edit_type')\n",
    "\n",
    "        if self.edit_len > 3:\n",
    "            self.error('sID:%s\\n\\t Please set edit length upto 3nt. Available edit length range: 1~3nt' % self.sID)\n",
    "            raise ValueError('Please check your input: edit_len')\n",
    "        \n",
    "        if self.edit_len < 1:\n",
    "            self.error('sID:%s\\n\\t Please set edit length at least 1nt. Available edit length range: 1~3nt' % self.sID)\n",
    "            raise ValueError('Please check your input: edit_len')\n",
    "\n",
    "        self.info('Input information\\n\\t ID: %s\\n\\t Refseq: %s\\n\\t EDseq :%s' % (self.sID, self.Ref_seq, self.ED_seq))\n",
    "\n",
    "        return None\n",
    "    \n",
    "    # def check_input: END\n",
    "\n",
    "\n",
    "    def do_something(self):\n",
    "        self.logger.info('Something happened.')\n",
    "\n",
    "        return None\n",
    "\n",
    "    # def do_something: END\n",
    "    \n",
    "\n"
   ]
  },
  {
   "cell_type": "code",
   "execution_count": 5,
   "metadata": {},
   "outputs": [
    {
     "name": "stderr",
     "output_type": "stream",
     "text": [
      "INFO  @ Tue, 02 May 2023 19:22:44:\n",
      "\t DeepPrime: pegRNA activity prediction models\n",
      "\t version: 0.5.2 \n",
      "\n",
      "INFO  @ Tue, 02 May 2023 19:22:44:\n",
      "\t Input information\n",
      "\t ID: Sample_1\n",
      "\t Refseq: ATGACAATAAAAGACAACACCCTTGCCTTGTGGAGTTTTCAAAGCTCCCAGAAACTGAGAAGAACTATAACCTGCAAATGTCAACTGAAACCTTAAAGTGAGTATTTAATTGAGCTGAAGT\n",
      "\t EDseq :ATGACAATAAAAGACAACACCCTTGCCTTGTGGAGTTTTCAAAGCTCCCAGAAACTGAGACGAACTATAACCTGCAAATGTCAACTGAAACCTTAAAGTGAGTATTTAATTGAGCTGAAGT \n",
      "\n",
      "INFO  @ Tue, 02 May 2023 19:22:44:\n",
      "\t Created an instance of DeepPrime \n",
      "\n"
     ]
    }
   ],
   "source": [
    "ins_a = DeepPrime(sID='Sample_1',\n",
    "                  Ref_seq='ATGACAATAAAAGACAACACCCTTGCCTTGTGGAGTTTTCAAAGCTCCCAGAAACTGAGAAGAACTATAACCTGCAAATGTCAACTGAAACCTTAAAGTGAGTATTTAATTGAGCTGAAGT', \n",
    "                  ED_seq='ATGACAATAAAAGACAACACCCTTGCCTTGTGGAGTTTTCAAAGCTCCCAGAAACTGAGACGAACTATAACCTGCAAATGTCAACTGAAACCTTAAAGTGAGTATTTAATTGAGCTGAAGT',\n",
    "                  edit_type='sub',\n",
    "                  edit_len=1)"
   ]
  },
  {
   "cell_type": "code",
   "execution_count": 6,
   "metadata": {},
   "outputs": [
    {
     "name": "stderr",
     "output_type": "stream",
     "text": [
      "INFO  @ Tue, 02 May 2023 19:22:45:\n",
      "\t Something happened. \n",
      "\n"
     ]
    }
   ],
   "source": [
    "ins_a.do_something()"
   ]
  },
  {
   "cell_type": "code",
   "execution_count": 7,
   "metadata": {},
   "outputs": [
    {
     "name": "stderr",
     "output_type": "stream",
     "text": [
      "INFO  @ Tue, 02 May 2023 19:22:46:\n",
      "\t Something happened. \n",
      "\n"
     ]
    }
   ],
   "source": [
    "ins_a.do_something()"
   ]
  },
  {
   "cell_type": "code",
   "execution_count": 8,
   "metadata": {},
   "outputs": [],
   "source": [
    "ins_b = DeepPrime(sID='Sample_2',\n",
    "                  Ref_seq='ATGACAATAAAAGACAACACCCTTGCCTTGTGGAGTTTTCAAAGCTCCCAGAAACTGAGAAGAACTATAACCTGCAAATGTCAACTGAAACCTTAAAGTGAGTATTTAATTGAGCTGAAGT', \n",
    "                  ED_seq='ATGACAATAAAAGACAACACCCTTGCCTTGTGGAGTTTTCAAAGCTCCCAGAAACTGAGACGAACTATAACCTGCAAATGTCAACTGAAACCTTAAAGTGAGTATTTAATTGAGCTGAAGT',\n",
    "                  edit_type='sub',\n",
    "                  edit_len=1,\n",
    "                  silence=True)"
   ]
  },
  {
   "cell_type": "code",
   "execution_count": 9,
   "metadata": {},
   "outputs": [],
   "source": [
    "ins_b.do_something()"
   ]
  },
  {
   "cell_type": "code",
   "execution_count": 10,
   "metadata": {},
   "outputs": [
    {
     "name": "stderr",
     "output_type": "stream",
     "text": [
      "INFO  @ Tue, 02 May 2023 19:22:54:\n",
      "\t DeepPrime: pegRNA activity prediction models\n",
      "\t version: 0.5.2 \n",
      "\n",
      "ERROR @ Tue, 02 May 2023 19:22:54:\n",
      "\t sID:Sample_3\n",
      "\t Please set edit length upto 3nt. Available edit length range: 1~3nt \n",
      "\n",
      "INFO  @ Tue, 02 May 2023 19:22:54:\n",
      "\t Input information\n",
      "\t ID: Sample_3\n",
      "\t Refseq: ATGACAATAAAAGACAACACCCTTGCCTTGTGGAGTTTTCAAAGCTCCCAGAAACTGAGAAGAACTATAACCTGCAAATGTCAACTGAAACCTTAAAGTGAGTATTTAATTGAGCTGAAGT\n",
      "\t EDseq :ATGACAATAAAAGACAACACCCTTGCCTTGTGGAGTTTTCAAAGCTCCCAGAAACTGAGACGAACTATAACCTGCAAATGTCAACTGAAACCTTAAAGTGAGTATTTAATTGAGCTGAAGT \n",
      "\n",
      "INFO  @ Tue, 02 May 2023 19:22:54:\n",
      "\t Created an instance of DeepPrime \n",
      "\n"
     ]
    }
   ],
   "source": [
    "ins_c = DeepPrime(sID='Sample_3',\n",
    "                  Ref_seq='ATGACAATAAAAGACAACACCCTTGCCTTGTGGAGTTTTCAAAGCTCCCAGAAACTGAGAAGAACTATAACCTGCAAATGTCAACTGAAACCTTAAAGTGAGTATTTAATTGAGCTGAAGT', \n",
    "                  ED_seq='ATGACAATAAAAGACAACACCCTTGCCTTGTGGAGTTTTCAAAGCTCCCAGAAACTGAGACGAACTATAACCTGCAAATGTCAACTGAAACCTTAAAGTGAGTATTTAATTGAGCTGAAGT',\n",
    "                  edit_type='sub',\n",
    "                  edit_len=4,\n",
    "                  )"
   ]
  },
  {
   "cell_type": "code",
   "execution_count": 10,
   "metadata": {},
   "outputs": [
    {
     "name": "stderr",
     "output_type": "stream",
     "text": [
      "INFO  @ Tue, 02 May 2023 19:17:52:\n",
      "\t Something happened. \n",
      "\n"
     ]
    }
   ],
   "source": [
    "ins_c.do_something()"
   ]
  },
  {
   "cell_type": "code",
   "execution_count": 8,
   "metadata": {},
   "outputs": [
    {
     "ename": "ValueError",
     "evalue": "Error!@@!@!@",
     "output_type": "error",
     "traceback": [
      "\u001b[1;31m---------------------------------------------------------------------------\u001b[0m",
      "\u001b[1;31mValueError\u001b[0m                                Traceback (most recent call last)",
      "\u001b[1;32me:\\github_project\\genet\\test_genet_prd.ipynb Cell 20\u001b[0m in \u001b[0;36m<cell line: 7>\u001b[1;34m()\u001b[0m\n\u001b[0;32m      <a href='vscode-notebook-cell:/e%3A/github_project/genet/test_genet_prd.ipynb#X41sZmlsZQ%3D%3D?line=0'>1</a>\u001b[0m \u001b[39mimport\u001b[39;00m \u001b[39msys\u001b[39;00m\u001b[39m,\u001b[39m \u001b[39mlogging\u001b[39;00m\n\u001b[0;32m      <a href='vscode-notebook-cell:/e%3A/github_project/genet/test_genet_prd.ipynb#X41sZmlsZQ%3D%3D?line=3'>4</a>\u001b[0m logger \u001b[39m=\u001b[39m logging\u001b[39m.\u001b[39mgetLogger(\u001b[39m'\u001b[39m\u001b[39mexample\u001b[39m\u001b[39m'\u001b[39m)\n\u001b[1;32m----> <a href='vscode-notebook-cell:/e%3A/github_project/genet/test_genet_prd.ipynb#X41sZmlsZQ%3D%3D?line=6'>7</a>\u001b[0m \u001b[39mraise\u001b[39;00m \u001b[39mValueError\u001b[39;00m(\u001b[39m'\u001b[39m\u001b[39mError!@@!@!@\u001b[39m\u001b[39m'\u001b[39m)\n\u001b[0;32m      <a href='vscode-notebook-cell:/e%3A/github_project/genet/test_genet_prd.ipynb#X41sZmlsZQ%3D%3D?line=8'>9</a>\u001b[0m logger\u001b[39m.\u001b[39merror(\u001b[39m'\u001b[39m\u001b[39mError\u001b[39m\u001b[39m'\u001b[39m)\n\u001b[0;32m     <a href='vscode-notebook-cell:/e%3A/github_project/genet/test_genet_prd.ipynb#X41sZmlsZQ%3D%3D?line=12'>13</a>\u001b[0m \u001b[39mprint\u001b[39m(\u001b[39m'\u001b[39m\u001b[39mError occured\u001b[39m\u001b[39m'\u001b[39m)\n",
      "\u001b[1;31mValueError\u001b[0m: Error!@@!@!@"
     ]
    }
   ],
   "source": [
    "import sys, logging\n",
    "\n",
    "\n",
    "logger = logging.getLogger('example')\n",
    "\n",
    "\n",
    "raise ValueError('Error!@@!@!@')\n",
    "\n",
    "logger.error('Error')\n",
    "\n",
    "\n",
    "\n",
    "print('Error occured')\n",
    "sys.exit(1)"
   ]
  },
  {
   "cell_type": "code",
   "execution_count": 1,
   "metadata": {},
   "outputs": [
    {
     "name": "stderr",
     "output_type": "stream",
     "text": [
      "c:\\Users\\gsyu\\miniconda3\\envs\\genet\\lib\\site-packages\\tqdm\\auto.py:22: TqdmWarning: IProgress not found. Please update jupyter and ipywidgets. See https://ipywidgets.readthedocs.io/en/stable/user_install.html\n",
      "  from .autonotebook import tqdm as notebook_tqdm\n"
     ]
    }
   ],
   "source": [
    "from genet.predict import CasVariant\n",
    "\n",
    "cas_ng = CasVariant('SpCas9-NG')"
   ]
  },
  {
   "cell_type": "code",
   "execution_count": 2,
   "metadata": {},
   "outputs": [
    {
     "data": {
      "text/html": [
       "<div>\n",
       "<style scoped>\n",
       "    .dataframe tbody tr th:only-of-type {\n",
       "        vertical-align: middle;\n",
       "    }\n",
       "\n",
       "    .dataframe tbody tr th {\n",
       "        vertical-align: top;\n",
       "    }\n",
       "\n",
       "    .dataframe thead th {\n",
       "        text-align: right;\n",
       "    }\n",
       "</style>\n",
       "<table border=\"1\" class=\"dataframe\">\n",
       "  <thead>\n",
       "    <tr style=\"text-align: right;\">\n",
       "      <th></th>\n",
       "      <th>Sequence</th>\n",
       "      <th>SpCas9-NG</th>\n",
       "    </tr>\n",
       "  </thead>\n",
       "  <tbody>\n",
       "    <tr>\n",
       "      <th>0</th>\n",
       "      <td>TCACCTTCGTTTTTTTCCTTCTGCAGGAGG</td>\n",
       "      <td>0.618299</td>\n",
       "    </tr>\n",
       "    <tr>\n",
       "      <th>1</th>\n",
       "      <td>CCTTCGTTTTTTTCCTTCTGCAGGAGGACA</td>\n",
       "      <td>1.134845</td>\n",
       "    </tr>\n",
       "    <tr>\n",
       "      <th>2</th>\n",
       "      <td>CTTTCAAGAACTCTTCCACCTCCATGGTGT</td>\n",
       "      <td>36.743580</td>\n",
       "    </tr>\n",
       "  </tbody>\n",
       "</table>\n",
       "</div>"
      ],
      "text/plain": [
       "                         Sequence  SpCas9-NG\n",
       "0  TCACCTTCGTTTTTTTCCTTCTGCAGGAGG   0.618299\n",
       "1  CCTTCGTTTTTTTCCTTCTGCAGGAGGACA   1.134845\n",
       "2  CTTTCAAGAACTCTTCCACCTCCATGGTGT  36.743580"
      ]
     },
     "execution_count": 2,
     "metadata": {},
     "output_type": "execute_result"
    }
   ],
   "source": [
    "list_target30 = [\n",
    "                'TCACCTTCGTTTTTTTCCTTCTGCAGGAGG',\n",
    "                'CCTTCGTTTTTTTCCTTCTGCAGGAGGACA',\n",
    "                'CTTTCAAGAACTCTTCCACCTCCATGGTGT',\n",
    "                ]\n",
    "\n",
    "df_out = cas_ng.predict(list_target30)\n",
    "df_out\n"
   ]
  },
  {
   "cell_type": "code",
   "execution_count": null,
   "metadata": {},
   "outputs": [],
   "source": []
  }
 ],
 "metadata": {
  "kernelspec": {
   "display_name": "base",
   "language": "python",
   "name": "python3"
  },
  "language_info": {
   "codemirror_mode": {
    "name": "ipython",
    "version": 3
   },
   "file_extension": ".py",
   "mimetype": "text/x-python",
   "name": "python",
   "nbconvert_exporter": "python",
   "pygments_lexer": "ipython3",
   "version": "3.8.16"
  },
  "orig_nbformat": 4,
  "vscode": {
   "interpreter": {
    "hash": "81e374b3269ecf0079033d8d54c3b8445e57606735e601277613154e83e18b39"
   }
  }
 },
 "nbformat": 4,
 "nbformat_minor": 2
}
