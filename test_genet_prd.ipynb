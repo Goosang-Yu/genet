{
 "cells": [
  {
   "cell_type": "code",
   "execution_count": null,
   "metadata": {},
   "outputs": [],
   "source": [
    "from genet import predict as prd"
   ]
  },
  {
   "cell_type": "code",
   "execution_count": null,
   "metadata": {},
   "outputs": [],
   "source": [
    "seq_wt   = 'ATGACAATAAAAGACAACACCCTTGCCTTGTGGAGTTTTCAAAGCTCCCAGAAACTGAGAAGAACTATAACCTGCAAATGTCAACTGAAACCTTAAAGTGAGTATTTAATTGAGCTGAAGT'\n",
    "seq_ed   = 'ATGACAATAAAAGACAACACCCTTGCCTTGTGGAGTTTTCAAAGCTCCCAGAAACTGAGACGAACTATAACCTGCAAATGTCAACTGAAACCTTAAAGTGAGTATTTAATTGAGCTGAAGT'\n",
    "alt_type = 'sub1'\n",
    "\n",
    "df_pe = prd.pe_score(seq_wt, seq_ed, alt_type)\n",
    "df_pe.head()"
   ]
  },
  {
   "cell_type": "code",
   "execution_count": null,
   "metadata": {},
   "outputs": [],
   "source": [
    "df_test = df_pe['Edited74_On'].str.replace('x', '')\n",
    "df_test"
   ]
  },
  {
   "cell_type": "code",
   "execution_count": null,
   "metadata": {},
   "outputs": [],
   "source": [
    "from Bio.Seq import transcribe, reverse_complement, reverse_complement_rna"
   ]
  },
  {
   "cell_type": "code",
   "execution_count": null,
   "metadata": {},
   "outputs": [],
   "source": [
    "list_rtpbs = [reverse_complement(seq.replace('x', '')) for seq in df_test]\n",
    "list_rtpbs"
   ]
  },
  {
   "cell_type": "code",
   "execution_count": null,
   "metadata": {},
   "outputs": [],
   "source": [
    "selected = ['WT74_On', 'PBSlen', 'RTlen', 'RT-PBSlen', 'Edit_pos', 'Edit_len', 'RHA_len', 'PE2max_score']\n",
    "df_pe_summary = df_pe[selected]\n",
    "df_pe_summary.insert(1, 'RT-PBSseq', list_rtpbs)"
   ]
  },
  {
   "cell_type": "code",
   "execution_count": null,
   "metadata": {},
   "outputs": [],
   "source": [
    "df_pe_summary"
   ]
  },
  {
   "cell_type": "code",
   "execution_count": null,
   "metadata": {},
   "outputs": [],
   "source": [
    "# genet ToDo\n",
    "\n",
    "# 1. output dataframe 간단하게 표현하기\n",
    "# 2. GetGene 불러와서 Base editing용 gRNA 디자인해주기"
   ]
  },
  {
   "cell_type": "code",
   "execution_count": null,
   "metadata": {},
   "outputs": [],
   "source": [
    "class DeepPrime:\n",
    "    '''\n",
    "    DeepPrime: pegRNA activity prediction models\\n\n",
    "    Function to score Deep Prime score.\\n\n",
    "    Input  = 121 nt DNA sequence without edit\\n\n",
    "    Output = 121 nt DNA sequence with edit\\n\n",
    "    \n",
    "    ### Available Edit types\\n\n",
    "    sub1, sub2, sub3, ins1, ins2, ins3, del1, del2, del3\\n\n",
    "    \n",
    "    ### Available PE systems\\n\n",
    "    PE2, PE2max, PE4max, NRCH_PE2, NRCH_PE2max, NRCH_PE4max\\n\n",
    "    \n",
    "    ### Available Cell types\\n\n",
    "    HEK293T, HCT116, MDA-MB-231, HeLa, DLD1, A549, NIH3T3\n",
    "    \n",
    "    '''\n",
    "    def __init__(self,\n",
    "                Ref_seq: str, \n",
    "                ED_seq: str, \n",
    "                sAlt: str,\n",
    "                sID:str       = 'Sample',\n",
    "                pe_system:str = 'PE2max',\n",
    "                cell_type:str = 'HEK293T',\n",
    "                pbs_min:int   = 7,\n",
    "                pbs_max:int   = 15,\n",
    "                rtt_max:int   = 40\n",
    "                ):\n",
    "        \n",
    "        print('\\nDeepPrime: pegRNA activity prediction models')\n",
    "        print('ID: %s' % sID)\n",
    "        print('Refseq:', Ref_seq)\n",
    "        print('EDseq :', ED_seq)\n",
    "\n",
    "        self.edit_type   = sAlt[:-1].lower()\n",
    "        self.edit_len    = int(sAlt[-1])\n",
    "        \n",
    "        # check input parameters\n",
    "        if pbs_max > 17: return print('sID:%s\\nPlease set PBS max length upto 17nt' % sID)\n",
    "        if rtt_max > 40: return print('sID:%s\\nPlease set RTT max length upto 40nt' % sID)\n",
    "        if self.edit_type not in ['sub', 'ins', 'del']: return print('sID:%s\\nPlease select proper edit type.\\nAvailable edit tyle: sub, ins, del' % sID)\n",
    "        if self.edit_len > 3: return print('sID:%s\\nPlease set edit length upto 3nt. Available edit length range: 1~3nt' % sID)\n",
    "        if self.edit_len < 1: return print('sID:%s\\nPlease set edit length at least 1nt. Available edit length range: 1~3nt' % sID)\n",
    "    \n",
    "        # parameters\n",
    "        self.nAltIndex = 60\n",
    "        self.Ref_seq   = Ref_seq\n",
    "        self.ED_seq    = ED_seq\n",
    "        self.sAlt      = sAlt\n",
    "        self.sID       = sID\n",
    "        self.pe_system = pe_system\n",
    "        self.cell_type = cell_type\n",
    "        self.pbs_min   = pbs_min\n",
    "        self.pbs_max   = pbs_max\n",
    "        self.pbs_range = [pbs_min, pbs_max]\n",
    "        self.rtt_max   = rtt_max\n",
    "\n",
    "\n",
    "\n",
    "\n",
    "    def pe_score(self):\n",
    "        print('start pe_scre', self.Ref_seq, self.ED_seq, self.sAlt, )\n",
    "\n"
   ]
  },
  {
   "cell_type": "code",
   "execution_count": null,
   "metadata": {},
   "outputs": [],
   "source": [
    "test_class = DeepPrime('test', 'test', 'test')\n",
    "# test_class"
   ]
  },
  {
   "cell_type": "code",
   "execution_count": null,
   "metadata": {},
   "outputs": [],
   "source": []
  }
 ],
 "metadata": {
  "kernelspec": {
   "display_name": "Python 3.9.7 ('base')",
   "language": "python",
   "name": "python3"
  },
  "language_info": {
   "name": "python",
   "version": "3.9.7"
  },
  "orig_nbformat": 4,
  "vscode": {
   "interpreter": {
    "hash": "81e374b3269ecf0079033d8d54c3b8445e57606735e601277613154e83e18b39"
   }
  }
 },
 "nbformat": 4,
 "nbformat_minor": 2
}
