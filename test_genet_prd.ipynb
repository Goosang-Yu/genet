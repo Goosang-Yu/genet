{
 "cells": [
  {
   "cell_type": "code",
   "execution_count": null,
   "metadata": {},
   "outputs": [],
   "source": [
    "from genet import predict as prd"
   ]
  },
  {
   "cell_type": "code",
   "execution_count": null,
   "metadata": {},
   "outputs": [],
   "source": [
    "seq_wt   = 'ATGACAATAAAAGACAACACCCTTGCCTTGTGGAGTTTTCAAAGCTCCCAGAAACTGAGAAGAACTATAACCTGCAAATGTCAACTGAAACCTTAAAGTGAGTATTTAATTGAGCTGAAGT'\n",
    "seq_ed   = 'ATGACAATAAAAGACAACACCCTTGCCTTGTGGAGTTTTCAAAGCTCCCAGAAACTGAGACGAACTATAACCTGCAAATGTCAACTGAAACCTTAAAGTGAGTATTTAATTGAGCTGAAGT'\n",
    "alt_type = 'sub1'\n",
    "\n",
    "df_pe = prd.pe_score(seq_wt, seq_ed, alt_type)\n",
    "df_pe.head()"
   ]
  },
  {
   "cell_type": "code",
   "execution_count": null,
   "metadata": {},
   "outputs": [],
   "source": [
    "df_test = df_pe['Edited74_On'].str.replace('x', '')\n",
    "df_test"
   ]
  },
  {
   "cell_type": "code",
   "execution_count": null,
   "metadata": {},
   "outputs": [],
   "source": [
    "from Bio.Seq import transcribe, reverse_complement, reverse_complement_rna"
   ]
  },
  {
   "cell_type": "code",
   "execution_count": null,
   "metadata": {},
   "outputs": [],
   "source": [
    "list_rtpbs = [reverse_complement(seq.replace('x', '')) for seq in df_test]\n",
    "list_rtpbs"
   ]
  },
  {
   "cell_type": "code",
   "execution_count": null,
   "metadata": {},
   "outputs": [],
   "source": [
    "selected = ['WT74_On', 'PBSlen', 'RTlen', 'RT-PBSlen', 'Edit_pos', 'Edit_len', 'RHA_len', 'PE2max_score']\n",
    "df_pe_summary = df_pe[selected]\n",
    "df_pe_summary.insert(1, 'RT-PBSseq', list_rtpbs)"
   ]
  },
  {
   "cell_type": "code",
   "execution_count": null,
   "metadata": {},
   "outputs": [],
   "source": [
    "df_pe_summary"
   ]
  },
  {
   "cell_type": "code",
   "execution_count": null,
   "metadata": {},
   "outputs": [],
   "source": [
    "# genet ToDo\n",
    "\n",
    "# 1. output dataframe 간단하게 표현하기\n",
    "# 2. GetGene 불러와서 Base editing용 gRNA 디자인해주기"
   ]
  },
  {
   "cell_type": "code",
   "execution_count": null,
   "metadata": {},
   "outputs": [],
   "source": [
    "class DeepPrime:\n",
    "    '''\n",
    "    DeepPrime: pegRNA activity prediction models\n",
    "    \n",
    "\n",
    "    \n",
    "    '''\n",
    "    def __init__(self,\n",
    "                Ref_seq: str, \n",
    "                ED_seq: str, \n",
    "                sAlt: str,\n",
    "                sID:str       = 'Sample',\n",
    "                pe_system:str = 'PE2max',\n",
    "                cell_type:str = 'HEK293T',\n",
    "                pbs_min:int   = 7,\n",
    "                pbs_max:int   = 15,\n",
    "                rtt_max:int   = 40\n",
    "                ):\n",
    "        print('\\nDeepPrime: pegRNA activity prediction models')\n",
    "        print('ID: %s' % sID)\n",
    "        print('Refseq:', Ref_seq)\n",
    "        print('EDseq :', ED_seq)\n",
    "\n",
    "        self.Ref_seq   = Ref_seq\n",
    "        self.ED_seq    = ED_seq\n",
    "        self.sAlt      = sAlt\n",
    "        self.sID       = sID\n",
    "        self.pe_system = pe_system\n",
    "        self.cell_type = cell_type\n",
    "        self.pbs_min   = pbs_min\n",
    "        self.pbs_max   = pbs_max\n",
    "        self.rtt_max   = rtt_max\n",
    "\n",
    "\n",
    "\n",
    "\n",
    "    def pe_score(self):\n",
    "        print('start pe_scre', self.Ref_seq, self.ED_seq, self.sAlt, )\n",
    "\n"
   ]
  },
  {
   "cell_type": "code",
   "execution_count": null,
   "metadata": {},
   "outputs": [],
   "source": [
    "test_class = DeepPrime('test', 'test', 'test')\n",
    "# test_class"
   ]
  },
  {
   "cell_type": "code",
   "execution_count": null,
   "metadata": {},
   "outputs": [],
   "source": []
  }
 ],
 "metadata": {
  "language_info": {
   "name": "python"
  },
  "orig_nbformat": 4
 },
 "nbformat": 4,
 "nbformat_minor": 2
}
