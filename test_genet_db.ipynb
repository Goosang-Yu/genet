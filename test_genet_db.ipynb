{
 "cells": [
  {
   "cell_type": "code",
   "execution_count": null,
   "metadata": {},
   "outputs": [],
   "source": [
    "from Bio import Entrez\n",
    "Entrez.email = \"gsyu93@gmail.com\"\n",
    "\n",
    "handle = Entrez.esearch(db=\"clinvar\", term='TP53')\n",
    "result = Entrez.read(handle)\n",
    "handle.close()\n",
    "# records = Entrez.parse(handle)"
   ]
  },
  {
   "cell_type": "code",
   "execution_count": 1,
   "metadata": {},
   "outputs": [
    {
     "name": "stdout",
     "output_type": "stream",
     "text": [
      "Please enter your email\n"
     ]
    }
   ],
   "source": [
    "from genet import database as db"
   ]
  },
  {
   "cell_type": "code",
   "execution_count": 2,
   "metadata": {},
   "outputs": [],
   "source": [
    "cv_record = db.GetClinVar('VCV000428864.3')\n",
    "pecv_score(cv_record)"
   ]
  },
  {
   "cell_type": "code",
   "execution_count": 3,
   "metadata": {},
   "outputs": [
    {
     "data": {
      "text/plain": [
       "genet.database.functional.GetClinVar"
      ]
     },
     "execution_count": 3,
     "metadata": {},
     "output_type": "execute_result"
    }
   ],
   "source": [
    "type(cv_record)"
   ]
  },
  {
   "cell_type": "code",
   "execution_count": 4,
   "metadata": {},
   "outputs": [
    {
     "data": {
      "text/plain": [
       "('GGTCACTCACCTGGAGTGAGCCCTGCTCCCCCCTGGCTCCTTCCCAGCCTGGGCATCCTTGAGTTCCAAGGCCTCATTCAGCTCTCGGAACATCTCGAAGCGCTCACGCCCACGGATCTGC',\n",
       " 'GGTCACTCACCTGGAGTGAGCCCTGCTCCCCCCTGGCTCCTTCCCAGCCTGGGCATCCTTGTTCCAAGGCCTCATTCAGCTCTCGGAACATCTCGAAGCGCTCACGCCCACGGATCTGCAG')"
      ]
     },
     "execution_count": 4,
     "metadata": {},
     "output_type": "execute_result"
    }
   ],
   "source": [
    "cv_record.seq()"
   ]
  },
  {
   "cell_type": "code",
   "execution_count": 7,
   "metadata": {},
   "outputs": [
    {
     "data": {
      "text/plain": [
       "2"
      ]
     },
     "execution_count": 7,
     "metadata": {},
     "output_type": "execute_result"
    }
   ],
   "source": [
    "cv_record.alt_len"
   ]
  },
  {
   "cell_type": "code",
   "execution_count": null,
   "metadata": {},
   "outputs": [],
   "source": []
  },
  {
   "cell_type": "code",
   "execution_count": 10,
   "metadata": {},
   "outputs": [],
   "source": [
    "import genet\n",
    "def pecv_score(cv_record:genet.database.functional.GetClinVar,\n",
    "               sID:str       = 'Sample',\n",
    "               pe_system:str = 'PE2max',\n",
    "               cell_type:str = 'HEK293T',\n",
    "               pbs_min:int   = 7,\n",
    "               pbs_max:int   = 15,\n",
    "               rtt_max:int   = 40\n",
    "               ):\n",
    "\n",
    "    '''\n",
    "    database module에서 GetClinVar에서 가져온 variants record를 이용.\\n\n",
    "    DeepPrime에 따로 sequence input을 가져올 필요 없이 바로 점수를 계산해준다.\\n\n",
    "    만약 DeepPrime에서 예측이 불가능한 형태의 variants면, 메세지를 내보낸다.\\n\n",
    "\n",
    "    \n",
    "    '''\n",
    "    print('DeepPrime score of ClinVar record')\n",
    "\n",
    "    Ref_seq, ED_seq = cv_record.seq()\n",
    "\n",
    "    nAltIndex   = 60\n",
    "    pbs_range   = [pbs_min, pbs_max]\n",
    "    rtt_max     = rtt_max\n",
    "    pe_system   = pe_system\n",
    "\n",
    "    edit_type   = cv_record.alt_type\n",
    "    edit_len    = int(cv_record.alt_len)\n",
    "\n",
    "    print(Ref_seq)\n",
    "    print(ED_seq)\n",
    "    print(edit_type)\n",
    "    print(edit_len)"
   ]
  },
  {
   "cell_type": "code",
   "execution_count": 11,
   "metadata": {},
   "outputs": [
    {
     "name": "stdout",
     "output_type": "stream",
     "text": [
      "DeepPrime score of ClinVar record\n",
      "GGTCACTCACCTGGAGTGAGCCCTGCTCCCCCCTGGCTCCTTCCCAGCCTGGGCATCCTTGAGTTCCAAGGCCTCATTCAGCTCTCGGAACATCTCGAAGCGCTCACGCCCACGGATCTGC\n",
      "GGTCACTCACCTGGAGTGAGCCCTGCTCCCCCCTGGCTCCTTCCCAGCCTGGGCATCCTTGTTCCAAGGCCTCATTCAGCTCTCGGAACATCTCGAAGCGCTCACGCCCACGGATCTGCAG\n",
      "del\n",
      "2\n"
     ]
    }
   ],
   "source": [
    "pecv_score(cv_record)"
   ]
  },
  {
   "cell_type": "code",
   "execution_count": null,
   "metadata": {},
   "outputs": [],
   "source": [
    "from genet import database as db\n",
    "from genet import predict as pred\n",
    "\n",
    "cv_record = db.GetClinVar('VCV000428864.3')\n",
    "pred.pecv_score(cv_record)"
   ]
  },
  {
   "cell_type": "markdown",
   "metadata": {},
   "source": [
    "## test"
   ]
  },
  {
   "cell_type": "code",
   "execution_count": 7,
   "metadata": {},
   "outputs": [],
   "source": [
    "from Bio import Entrez, SeqIO\n",
    "Entrez.email = \"gsyu93@gmail.com\""
   ]
  },
  {
   "cell_type": "code",
   "execution_count": 46,
   "metadata": {},
   "outputs": [],
   "source": [
    "class _GetClinVar:\n",
    "    def __init__(self, \n",
    "                 record_id:str,\n",
    "                 ):\n",
    "\n",
    "        '''\n",
    "        NCBI ClinVar에서 record를 찾기위한 function.\\n\n",
    "        기본적으로 biopython의 Entrez module을 사용한다. \n",
    "\n",
    "        example:\n",
    "        >>> from genet import database as db\n",
    "        >>> cv_record = db.GetClinVar('VCV000209223')\n",
    "\n",
    "        '''\n",
    "\n",
    "        self._record_id = record_id\n",
    "\n",
    "        if self._record_id.startswith('VCV'):\n",
    "            self.handle = Entrez.efetch(db='clinvar', id=self._record_id.split('.')[0], rettype='vcv') # VCV로 받을 경우    \n",
    "        else:            \n",
    "            self.handle = Entrez.efetch(db='clinvar', id=self._record_id, rettype='vcv', is_varationid='true', from_esearch=\"true\") # variation ID로 받을 경우\n",
    "        \n",
    "        import xml.etree.ElementTree as ET\n",
    "        self.result = ET.parse(self.handle)\n",
    "        self.root = self.result.getroot()\n",
    "        \n",
    "        self.var_loc = self.root.findall('./VariationArchive/InterpretedRecord/SimpleAllele/Location/SequenceLocation')\n",
    "\n",
    "        for self.info in self.var_loc:\n",
    "            if self.info.attrib['Assembly'] == 'GRCh38':\n",
    "                self.chr_acc = self.info.attrib['Accession']\n",
    "                self.start   = int(self.info.attrib['start'])\n",
    "                self.stop    = int(self.info.attrib['stop'])\n",
    "                self.ref_nt  = self.info.attrib['referenceAlleleVCF']\n",
    "                self.alt_nt  = self.info.attrib['alternateAlleleVCF']\n",
    "                self.alt_len = int(self.info.attrib['variantLength'])\n",
    "                break\n",
    "\n",
    "        if   len(self.ref_nt) == len(self.alt_nt): self.alt_type = 'sub'\n",
    "        elif len(self.ref_nt) <  len(self.alt_nt): self.alt_type = 'ins'\n",
    "        elif len(self.ref_nt) >  len(self.alt_nt): self.alt_type = 'del'\n",
    "    \n",
    "    # def __init__: End\n",
    "\n",
    "    def seq(self, context:int = 60, new_alt:str='atc',):\n",
    "        '''\n",
    "        esearch로 가져온 RefSeq의 ID를 받아서, efetch로 정보를 불러온다.\n",
    "        불러온 정보는 seq_record로 저장되고, 그 안에서 각종 정보를 가져올 수 있다.\n",
    "        \n",
    "        '''\n",
    "        self.chr_seq_fetch = Entrez.efetch(db=\"nucleotide\", \n",
    "                                           id=self.chr_acc, \n",
    "                                           rettype=\"fasta\", \n",
    "                                           strand=1, \n",
    "                                           seq_start = self.start-context, \n",
    "                                           seq_stop  = self.stop+context+self.alt_len\n",
    "                                           )\n",
    "\n",
    "        self.ref_seq = str(SeqIO.read(self.chr_seq_fetch, \"fasta\").seq)\n",
    "        if self.alt_type != 'del':\n",
    "            self.alt_seq = self.ref_seq[:context] + self.alt_nt + self.ref_seq[context+1:]\n",
    "        else:\n",
    "            self.alt_seq = self.ref_seq[:context] + self.ref_seq[context+self.alt_len:]\n",
    "        \n",
    "        self.chr_seq_fetch.close()\n",
    "\n",
    "        if self.alt_type == 'ins':\n",
    "            self.ref_seq = self.ref_seq[1:]\n",
    "            self.alt_seq = self.alt_seq[1:]\n",
    "\n",
    "        return self.ref_seq[:1+context*2], self.alt_seq[:1+context*2]\n"
   ]
  },
  {
   "cell_type": "code",
   "execution_count": 47,
   "metadata": {},
   "outputs": [
    {
     "data": {
      "text/plain": [
       "('TAGGGCCAGGAAGGGGCTGAGGTCACTCACCTGGAGTGAGCCCTGCTCCCCCCTGGCTCCTTCCCAGCCTGGGCATCCTTGAGTTCCAAGGCCTCATTCAGCTCTCGGAACATCTCGAAGCGCTCACGCCCACGGATCTGCAGCAACAGAGGAGGGGGAGA',\n",
       " 'TAGGGCCAGGAAGGGGCTGAGGTCACTCACCTGGAGTGAGCCCTGCTCCCCCCTGGCTCCTTCCCAGCCTGGGCATCCTTGTTCCAAGGCCTCATTCAGCTCTCGGAACATCTCGAAGCGCTCACGCCCACGGATCTGCAGCAACAGAGGAGGGGGAGAAG')"
      ]
     },
     "execution_count": 47,
     "metadata": {},
     "output_type": "execute_result"
    }
   ],
   "source": [
    "_cv_record = _GetClinVar('VCV000428864.3')\n",
    "_cv_record.seq(80)"
   ]
  },
  {
   "cell_type": "code",
   "execution_count": 45,
   "metadata": {},
   "outputs": [
    {
     "data": {
      "text/plain": [
       "'TAGGGCCAGGAAGGGGCTGAGGTCACTCACCTGGAGTGAGCCCTGCTCCCCCCTGGCTCCTTCCCAGCCTGGGCATCCTT'"
      ]
     },
     "execution_count": 45,
     "metadata": {},
     "output_type": "execute_result"
    }
   ],
   "source": [
    "_cv_record.ref_seq[:80]"
   ]
  },
  {
   "cell_type": "code",
   "execution_count": 39,
   "metadata": {},
   "outputs": [
    {
     "data": {
      "text/plain": [
       "'TGA'"
      ]
     },
     "execution_count": 39,
     "metadata": {},
     "output_type": "execute_result"
    }
   ],
   "source": [
    "_cv_record.ref_nt"
   ]
  },
  {
   "cell_type": "code",
   "execution_count": 40,
   "metadata": {},
   "outputs": [
    {
     "data": {
      "text/plain": [
       "'T'"
      ]
     },
     "execution_count": 40,
     "metadata": {},
     "output_type": "execute_result"
    }
   ],
   "source": [
    "_cv_record.alt_nt"
   ]
  },
  {
   "cell_type": "code",
   "execution_count": 41,
   "metadata": {},
   "outputs": [
    {
     "data": {
      "text/plain": [
       "2"
      ]
     },
     "execution_count": 41,
     "metadata": {},
     "output_type": "execute_result"
    }
   ],
   "source": [
    "_cv_record.alt_len"
   ]
  },
  {
   "cell_type": "code",
   "execution_count": null,
   "metadata": {},
   "outputs": [],
   "source": []
  }
 ],
 "metadata": {
  "kernelspec": {
   "display_name": "Python 3.8.13 ('genet')",
   "language": "python",
   "name": "python3"
  },
  "language_info": {
   "codemirror_mode": {
    "name": "ipython",
    "version": 3
   },
   "file_extension": ".py",
   "mimetype": "text/x-python",
   "name": "python",
   "nbconvert_exporter": "python",
   "pygments_lexer": "ipython3",
   "version": "3.8.13"
  },
  "orig_nbformat": 4,
  "vscode": {
   "interpreter": {
    "hash": "ad333f69f1d349cc4ee014c46a9ac73e8a7331a44020b2a0d8d29b366c987199"
   }
  }
 },
 "nbformat": 4,
 "nbformat_minor": 2
}
