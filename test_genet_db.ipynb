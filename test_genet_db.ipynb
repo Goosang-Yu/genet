{
 "cells": [
  {
   "cell_type": "code",
   "execution_count": null,
   "metadata": {},
   "outputs": [],
   "source": [
    "from Bio import Entrez\n",
    "Entrez.email = \"gsyu93@gmail.com\"\n",
    "\n",
    "handle = Entrez.esearch(db=\"clinvar\", term='TP53')\n",
    "result = Entrez.read(handle)\n",
    "handle.close()\n",
    "# records = Entrez.parse(handle)"
   ]
  }
 ],
 "metadata": {
  "kernelspec": {
   "display_name": "Python 3.9.13 ('base')",
   "language": "python",
   "name": "python3"
  },
  "language_info": {
   "name": "python",
   "version": "3.9.13"
  },
  "orig_nbformat": 4,
  "vscode": {
   "interpreter": {
    "hash": "456429a4186cf596b072ad5ec1b53207b3d8c219143cb76d95880537d31a740b"
   }
  }
 },
 "nbformat": 4,
 "nbformat_minor": 2
}
