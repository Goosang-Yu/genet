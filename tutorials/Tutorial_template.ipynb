{
 "cells": [
  {
   "cell_type": "markdown",
   "metadata": {},
   "source": [
    "## GenET tutorial\n",
    "\n",
    "Last updated: \n",
    "\n",
    "Tested systems:\n",
    "- Python 3.9\n",
    "- Ubuntu 22.04 (including WLS version)"
   ]
  },
  {
   "cell_type": "code",
   "execution_count": null,
   "metadata": {},
   "outputs": [],
   "source": []
  }
 ],
 "metadata": {
  "language_info": {
   "name": "python"
  }
 },
 "nbformat": 4,
 "nbformat_minor": 2
}
