{
 "cells": [
  {
   "cell_type": "markdown",
   "metadata": {},
   "source": [
    "## :star2: GenET database module\n",
    "\n",
    "GenET의 database module은 NCBI의 FTP 서버에서 원하는 파일들을 찾고, 손쉽게 다운로드 받을 수 있는 함수들을 제공합니다. 대표적인 기능들은 아래의 class들로 구현되어 있습니다. \n",
    "- GetGenome\n",
    "- GetChromosome\n",
    "- GetGene (아직 제작 중)\n",
    "- GetClinVar (제작 예정)\n",
    "\n",
    "아래의 예시 코드를 이용해서 원하는 기능들을 사용해보세요!"
   ]
  },
  {
   "cell_type": "markdown",
   "metadata": {},
   "source": [
    "### Install GenET\n",
    "---\n",
    "우선 아래의 기능들을 사용하기 위해서, 현재 environment에 `genet`을 설치합니다. \n",
    "\n",
    "터미널에 아래의 명령어로 설치할 수 있습니다.\n",
    "\n",
    "```bash\n",
    "$ conda create -n genet python=3.9\n",
    "$ conda activate genet\n",
    "$ pip install genet\n",
    "```"
   ]
  },
  {
   "cell_type": "markdown",
   "metadata": {},
   "source": [
    "### NCBI\n",
    "---\n",
    "class `NCBI`는 NCBI의 FTP 서버와 연결하고, meta data를 local로 다운로드 받아서 원하는 데이터에 대한 각종 정보를 바로 가져올 수 있게 해줍니다. NCBI database는 수시로 업데이트되고 있기 때문에, metadata도 종종 업데이트해주는 것이 좋습니다. \n",
    "\n",
    "genet을 설치한 후 처음 NCBI를 불러오면, genet에서 자동으로 local environment에 metadata를 다운로드합니다. 파일의 크기가 좀 크기 때문에 다운로드에 약간 시간이 걸리지만, 한번 다운로드 받은 후에는 빠르게 정보를 가져올 수 있다는 장점이 있습니다. \n",
    "\n",
    "ncbi.meta를 불러오면, 현재 local environment에 다운로드 되어있는 metadata를 DataFrame 형태로 볼 수 있습니다. "
   ]
  },
  {
   "cell_type": "code",
   "execution_count": 2,
   "metadata": {},
   "outputs": [
    {
     "data": {
      "text/html": [
       "<div>\n",
       "<style scoped>\n",
       "    .dataframe tbody tr th:only-of-type {\n",
       "        vertical-align: middle;\n",
       "    }\n",
       "\n",
       "    .dataframe tbody tr th {\n",
       "        vertical-align: top;\n",
       "    }\n",
       "\n",
       "    .dataframe thead th {\n",
       "        text-align: right;\n",
       "    }\n",
       "</style>\n",
       "<table border=\"1\" class=\"dataframe\">\n",
       "  <thead>\n",
       "    <tr style=\"text-align: right;\">\n",
       "      <th></th>\n",
       "      <th>#assembly_accession</th>\n",
       "      <th>bioproject</th>\n",
       "      <th>biosample</th>\n",
       "      <th>wgs_master</th>\n",
       "      <th>refseq_category</th>\n",
       "      <th>taxid</th>\n",
       "      <th>species_taxid</th>\n",
       "      <th>organism_name</th>\n",
       "      <th>infraspecific_name</th>\n",
       "      <th>isolate</th>\n",
       "      <th>version_status</th>\n",
       "      <th>assembly_level</th>\n",
       "      <th>release_type</th>\n",
       "      <th>genome_rep</th>\n",
       "      <th>seq_rel_date</th>\n",
       "      <th>asm_name</th>\n",
       "      <th>asm_submitter</th>\n",
       "      <th>gbrs_paired_asm</th>\n",
       "      <th>paired_asm_comp</th>\n",
       "      <th>ftp_path</th>\n",
       "      <th>excluded_from_refseq</th>\n",
       "      <th>relation_to_type_material</th>\n",
       "      <th>asm_not_live_date</th>\n",
       "      <th>assembly_type</th>\n",
       "      <th>group</th>\n",
       "      <th>genome_size</th>\n",
       "      <th>genome_size_ungapped</th>\n",
       "      <th>gc_percent</th>\n",
       "      <th>replicon_count</th>\n",
       "      <th>scaffold_count</th>\n",
       "      <th>contig_count</th>\n",
       "      <th>annotation_provider</th>\n",
       "      <th>annotation_name</th>\n",
       "      <th>annotation_date</th>\n",
       "      <th>total_gene_count</th>\n",
       "      <th>protein_coding_gene_count</th>\n",
       "      <th>non_coding_gene_count</th>\n",
       "      <th>pubmed_id</th>\n",
       "    </tr>\n",
       "  </thead>\n",
       "  <tbody>\n",
       "    <tr>\n",
       "      <th>0</th>\n",
       "      <td>GCF_000006405.1</td>\n",
       "      <td>PRJNA46451</td>\n",
       "      <td>SAMN02953677</td>\n",
       "      <td>AAXJ00000000.1</td>\n",
       "      <td>representative genome</td>\n",
       "      <td>423536</td>\n",
       "      <td>31276</td>\n",
       "      <td>Perkinsus marinus ATCC 50983</td>\n",
       "      <td>strain=ATCC 50983</td>\n",
       "      <td>na</td>\n",
       "      <td>latest</td>\n",
       "      <td>Scaffold</td>\n",
       "      <td>Major</td>\n",
       "      <td>Full</td>\n",
       "      <td>2009/06/12</td>\n",
       "      <td>JCVI_PMG_1.0</td>\n",
       "      <td>TIGR</td>\n",
       "      <td>GCA_000006405.1</td>\n",
       "      <td>identical</td>\n",
       "      <td>https://ftp.ncbi.nlm.nih.gov/genomes/all/GCF/0...</td>\n",
       "      <td>na</td>\n",
       "      <td>na</td>\n",
       "      <td>na</td>\n",
       "      <td>haploid</td>\n",
       "      <td>protozoa</td>\n",
       "      <td>86605074</td>\n",
       "      <td>86045674</td>\n",
       "      <td>47.5</td>\n",
       "      <td>0</td>\n",
       "      <td>17897</td>\n",
       "      <td>23491</td>\n",
       "      <td>NCBI RefSeq</td>\n",
       "      <td>Annotation submitted by NCBI RefSeq</td>\n",
       "      <td>2012/09/12</td>\n",
       "      <td>29475</td>\n",
       "      <td>23474</td>\n",
       "      <td>5999</td>\n",
       "      <td>na</td>\n",
       "    </tr>\n",
       "    <tr>\n",
       "      <th>1</th>\n",
       "      <td>GCF_000006625.1</td>\n",
       "      <td>PRJNA224116</td>\n",
       "      <td>SAMN02604098</td>\n",
       "      <td>na</td>\n",
       "      <td>na</td>\n",
       "      <td>273119</td>\n",
       "      <td>134821</td>\n",
       "      <td>Ureaplasma parvum serovar 3 str. ATCC 700970</td>\n",
       "      <td>strain=ATCC 700970</td>\n",
       "      <td>na</td>\n",
       "      <td>latest</td>\n",
       "      <td>Complete Genome</td>\n",
       "      <td>Major</td>\n",
       "      <td>Full</td>\n",
       "      <td>2003/07/17</td>\n",
       "      <td>ASM662v1</td>\n",
       "      <td>Univ.AL-Birmingham</td>\n",
       "      <td>GCA_000006625.1</td>\n",
       "      <td>identical</td>\n",
       "      <td>https://ftp.ncbi.nlm.nih.gov/genomes/all/GCF/0...</td>\n",
       "      <td>na</td>\n",
       "      <td>na</td>\n",
       "      <td>na</td>\n",
       "      <td>haploid</td>\n",
       "      <td>bacteria</td>\n",
       "      <td>751719</td>\n",
       "      <td>751719</td>\n",
       "      <td>25.5</td>\n",
       "      <td>1</td>\n",
       "      <td>1</td>\n",
       "      <td>1</td>\n",
       "      <td>NCBI RefSeq</td>\n",
       "      <td>NCBI Prokaryotic Genome Annotation Pipeline (P...</td>\n",
       "      <td>2023/11/05</td>\n",
       "      <td>665</td>\n",
       "      <td>624</td>\n",
       "      <td>39</td>\n",
       "      <td>11048724</td>\n",
       "    </tr>\n",
       "    <tr>\n",
       "      <th>2</th>\n",
       "      <td>GCF_000006725.1</td>\n",
       "      <td>PRJNA224116</td>\n",
       "      <td>SAMN02603773</td>\n",
       "      <td>na</td>\n",
       "      <td>na</td>\n",
       "      <td>160492</td>\n",
       "      <td>2371</td>\n",
       "      <td>Xylella fastidiosa 9a5c</td>\n",
       "      <td>strain=9a5c</td>\n",
       "      <td>na</td>\n",
       "      <td>latest</td>\n",
       "      <td>Complete Genome</td>\n",
       "      <td>Major</td>\n",
       "      <td>Full</td>\n",
       "      <td>2004/06/04</td>\n",
       "      <td>ASM672v1</td>\n",
       "      <td>Sao Paulo state (Brazil) Consortium</td>\n",
       "      <td>GCA_000006725.1</td>\n",
       "      <td>identical</td>\n",
       "      <td>https://ftp.ncbi.nlm.nih.gov/genomes/all/GCF/0...</td>\n",
       "      <td>na</td>\n",
       "      <td>na</td>\n",
       "      <td>na</td>\n",
       "      <td>haploid</td>\n",
       "      <td>bacteria</td>\n",
       "      <td>2731750</td>\n",
       "      <td>2731750</td>\n",
       "      <td>52.5</td>\n",
       "      <td>3</td>\n",
       "      <td>3</td>\n",
       "      <td>3</td>\n",
       "      <td>NCBI RefSeq</td>\n",
       "      <td>NCBI Prokaryotic Genome Annotation Pipeline (P...</td>\n",
       "      <td>2023/04/24</td>\n",
       "      <td>2519</td>\n",
       "      <td>2388</td>\n",
       "      <td>58</td>\n",
       "      <td>10910347</td>\n",
       "    </tr>\n",
       "    <tr>\n",
       "      <th>3</th>\n",
       "      <td>GCF_000006825.1</td>\n",
       "      <td>PRJNA224116</td>\n",
       "      <td>SAMN02604085</td>\n",
       "      <td>na</td>\n",
       "      <td>na</td>\n",
       "      <td>272843</td>\n",
       "      <td>747</td>\n",
       "      <td>Pasteurella multocida subsp. multocida str. Pm70</td>\n",
       "      <td>strain=Pm70</td>\n",
       "      <td>na</td>\n",
       "      <td>latest</td>\n",
       "      <td>Complete Genome</td>\n",
       "      <td>Major</td>\n",
       "      <td>Full</td>\n",
       "      <td>2001/03/21</td>\n",
       "      <td>ASM682v1</td>\n",
       "      <td>Univ. Minnesota</td>\n",
       "      <td>GCA_000006825.1</td>\n",
       "      <td>identical</td>\n",
       "      <td>https://ftp.ncbi.nlm.nih.gov/genomes/all/GCF/0...</td>\n",
       "      <td>na</td>\n",
       "      <td>na</td>\n",
       "      <td>na</td>\n",
       "      <td>haploid</td>\n",
       "      <td>bacteria</td>\n",
       "      <td>2257487</td>\n",
       "      <td>2257487</td>\n",
       "      <td>40.5</td>\n",
       "      <td>1</td>\n",
       "      <td>1</td>\n",
       "      <td>1</td>\n",
       "      <td>NCBI RefSeq</td>\n",
       "      <td>NCBI Prokaryotic Genome Annotation Pipeline (P...</td>\n",
       "      <td>2023/11/21</td>\n",
       "      <td>2107</td>\n",
       "      <td>2022</td>\n",
       "      <td>80</td>\n",
       "      <td>11248100</td>\n",
       "    </tr>\n",
       "    <tr>\n",
       "      <th>4</th>\n",
       "      <td>GCF_000007025.1</td>\n",
       "      <td>PRJNA224116</td>\n",
       "      <td>SAMN02603141</td>\n",
       "      <td>na</td>\n",
       "      <td>representative genome</td>\n",
       "      <td>272944</td>\n",
       "      <td>781</td>\n",
       "      <td>Rickettsia conorii str. Malish 7</td>\n",
       "      <td>strain=Malish 7</td>\n",
       "      <td>na</td>\n",
       "      <td>latest</td>\n",
       "      <td>Complete Genome</td>\n",
       "      <td>Major</td>\n",
       "      <td>Full</td>\n",
       "      <td>2002/11/25</td>\n",
       "      <td>ASM702v1</td>\n",
       "      <td>CNRS</td>\n",
       "      <td>GCA_000007025.1</td>\n",
       "      <td>identical</td>\n",
       "      <td>https://ftp.ncbi.nlm.nih.gov/genomes/all/GCF/0...</td>\n",
       "      <td>na</td>\n",
       "      <td>assembly from type material</td>\n",
       "      <td>na</td>\n",
       "      <td>haploid</td>\n",
       "      <td>bacteria</td>\n",
       "      <td>1268755</td>\n",
       "      <td>1268755</td>\n",
       "      <td>32.5</td>\n",
       "      <td>1</td>\n",
       "      <td>1</td>\n",
       "      <td>1</td>\n",
       "      <td>NCBI RefSeq</td>\n",
       "      <td>NCBI Prokaryotic Genome Annotation Pipeline (P...</td>\n",
       "      <td>2024/01/16</td>\n",
       "      <td>1473</td>\n",
       "      <td>1339</td>\n",
       "      <td>40</td>\n",
       "      <td>11030655;11557893</td>\n",
       "    </tr>\n",
       "  </tbody>\n",
       "</table>\n",
       "</div>"
      ],
      "text/plain": [
       "  #assembly_accession   bioproject  ... non_coding_gene_count          pubmed_id\n",
       "0     GCF_000006405.1   PRJNA46451  ...                  5999                 na\n",
       "1     GCF_000006625.1  PRJNA224116  ...                    39           11048724\n",
       "2     GCF_000006725.1  PRJNA224116  ...                    58           10910347\n",
       "3     GCF_000006825.1  PRJNA224116  ...                    80           11248100\n",
       "4     GCF_000007025.1  PRJNA224116  ...                    40  11030655;11557893\n",
       "\n",
       "[5 rows x 38 columns]"
      ]
     },
     "execution_count": 2,
     "metadata": {},
     "output_type": "execute_result"
    }
   ],
   "source": [
    "from genet.database import NCBI\n",
    "\n",
    "ncbi = NCBI()\n",
    "\n",
    "ncbi.meta.head()"
   ]
  },
  {
   "cell_type": "markdown",
   "metadata": {},
   "source": [
    "### GetGenome\n",
    "---\n",
    "`GetGenome`은 특정 spacies의 genome assembly를 가져와서 그 안의 유전 서열이나 annotation 정보를 가져옵니다. `GetGenome`은 `genet.database`에서 불러올 수 있습니다. "
   ]
  },
  {
   "cell_type": "code",
   "execution_count": 2,
   "metadata": {},
   "outputs": [
    {
     "data": {
      "text/plain": [
       "#assembly_accession                                           GCF_000001405.40\n",
       "bioproject                                                            PRJNA168\n",
       "biosample                                                                   na\n",
       "wgs_master                                                                  na\n",
       "refseq_category                                               reference genome\n",
       "taxid                                                                     9606\n",
       "species_taxid                                                             9606\n",
       "organism_name                                                     Homo sapiens\n",
       "infraspecific_name                                                          na\n",
       "isolate                                                                     na\n",
       "version_status                                                          latest\n",
       "assembly_level                                                      Chromosome\n",
       "release_type                                                             Patch\n",
       "genome_rep                                                                Full\n",
       "seq_rel_date                                                        2022/02/03\n",
       "asm_name                                                            GRCh38.p14\n",
       "asm_submitter                                      Genome Reference Consortium\n",
       "gbrs_paired_asm                                               GCA_000001405.29\n",
       "paired_asm_comp                                                      different\n",
       "ftp_path                     https://ftp.ncbi.nlm.nih.gov/genomes/all/GCF/0...\n",
       "excluded_from_refseq                                                        na\n",
       "relation_to_type_material                                                   na\n",
       "asm_not_live_date                                                           na\n",
       "assembly_type                                            haploid-with-alt-loci\n",
       "group                                                     vertebrate_mammalian\n",
       "genome_size                                                         3099441038\n",
       "genome_size_ungapped                                                2948318359\n",
       "gc_percent                                                                41.0\n",
       "replicon_count                                                              24\n",
       "scaffold_count                                                             470\n",
       "contig_count                                                             35611\n",
       "annotation_provider                                                NCBI RefSeq\n",
       "annotation_name                                    GCF_000001405.40-RS_2023_10\n",
       "annotation_date                                                     2023/10/02\n",
       "total_gene_count                                                         59652\n",
       "protein_coding_gene_count                                                20080\n",
       "non_coding_gene_count                                                    22158\n",
       "pubmed_id                    10508508;11780052;7219534;10830953;15496913;12...\n",
       "Name: 0, dtype: object"
      ]
     },
     "execution_count": 2,
     "metadata": {},
     "output_type": "execute_result"
    }
   ],
   "source": [
    "from genet.database import GetGenome\n",
    "\n",
    "# GetGenome을 불러올 때, \n",
    "genome = GetGenome('Homo sapiens')\n",
    "\n",
    "genome()"
   ]
  },
  {
   "cell_type": "code",
   "execution_count": 3,
   "metadata": {},
   "outputs": [
    {
     "data": {
      "text/plain": [
       "['README.txt',\n",
       " 'Annotation_comparison',\n",
       " 'GCF_000001405.40_GRCh38.p14_assembly_structure',\n",
       " 'GCF_000001405.40-RS_2023_10_annotation_report.xml',\n",
       " 'annotation_hashes.txt',\n",
       " 'RefSeq_transcripts_alignments',\n",
       " 'GCF_000001405.40_GRCh38.p14_assembly_regions.txt',\n",
       " 'GCF_000001405.40_GRCh38.p14_assembly_report.txt',\n",
       " 'GCF_000001405.40_GRCh38.p14_assembly_stats.txt',\n",
       " 'GCF_000001405.40_GRCh38.p14_cds_from_genomic.fna.gz',\n",
       " 'GCF_000001405.40_GRCh38.p14_feature_count.txt.gz',\n",
       " 'GCF_000001405.40_GRCh38.p14_feature_table.txt.gz',\n",
       " 'GCF_000001405.40_GRCh38.p14_genomic.fna.gz',\n",
       " 'GCF_000001405.40_GRCh38.p14_genomic.gbff.gz',\n",
       " 'GCF_000001405.40_GRCh38.p14_genomic.gff.gz',\n",
       " 'GCF_000001405.40_GRCh38.p14_genomic.gtf.gz',\n",
       " 'GCF_000001405.40_GRCh38.p14_genomic_gaps.txt.gz',\n",
       " 'GCF_000001405.40_GRCh38.p14_protein.faa.gz',\n",
       " 'GCF_000001405.40_GRCh38.p14_protein.gpff.gz',\n",
       " 'GCF_000001405.40_GRCh38.p14_pseudo_without_product.fna.gz',\n",
       " 'GCF_000001405.40_GRCh38.p14_rm.out.gz',\n",
       " 'GCF_000001405.40_GRCh38.p14_rm.run',\n",
       " 'GCF_000001405.40_GRCh38.p14_rna.fna.gz',\n",
       " 'GCF_000001405.40_GRCh38.p14_rna.gbff.gz',\n",
       " 'GCF_000001405.40_GRCh38.p14_rna_from_genomic.fna.gz',\n",
       " 'GCF_000001405.40_GRCh38.p14_translated_cds.faa.gz',\n",
       " 'README_GCF_000001405.40-RS_2023_10',\n",
       " 'assembly_status.txt',\n",
       " 'md5checksums.txt',\n",
       " 'GRCh38_major_release_seqs_for_alignment_pipelines']"
      ]
     },
     "execution_count": 3,
     "metadata": {},
     "output_type": "execute_result"
    }
   ],
   "source": [
    "list_contents = genome.contents()\n",
    "list_contents"
   ]
  },
  {
   "cell_type": "code",
   "execution_count": 4,
   "metadata": {},
   "outputs": [
    {
     "name": "stderr",
     "output_type": "stream",
     "text": [
      "[Info] Downloading README.txt: 100%|██████████| 54.0k/54.0k [00:00<00:00, 235kB/s] "
     ]
    },
    {
     "name": "stdout",
     "output_type": "stream",
     "text": [
      "[Info] File downloaded successfully: .//README.txt\n"
     ]
    },
    {
     "name": "stderr",
     "output_type": "stream",
     "text": [
      "\n"
     ]
    }
   ],
   "source": [
    "genome.download('README.txt')"
   ]
  },
  {
   "cell_type": "markdown",
   "metadata": {},
   "source": [
    "### GetChromosome\n",
    "---\n"
   ]
  },
  {
   "cell_type": "code",
   "execution_count": 4,
   "metadata": {},
   "outputs": [
    {
     "data": {
      "text/plain": [
       "#assembly_accession                                           GCF_000001405.40\n",
       "bioproject                                                            PRJNA168\n",
       "biosample                                                                   na\n",
       "wgs_master                                                                  na\n",
       "refseq_category                                               reference genome\n",
       "taxid                                                                     9606\n",
       "species_taxid                                                             9606\n",
       "organism_name                                                     Homo sapiens\n",
       "infraspecific_name                                                          na\n",
       "isolate                                                                     na\n",
       "version_status                                                          latest\n",
       "assembly_level                                                      Chromosome\n",
       "release_type                                                             Patch\n",
       "genome_rep                                                                Full\n",
       "seq_rel_date                                                        2022/02/03\n",
       "asm_name                                                            GRCh38.p14\n",
       "asm_submitter                                      Genome Reference Consortium\n",
       "gbrs_paired_asm                                               GCA_000001405.29\n",
       "paired_asm_comp                                                      different\n",
       "ftp_path                     https://ftp.ncbi.nlm.nih.gov/genomes/all/GCF/0...\n",
       "excluded_from_refseq                                                        na\n",
       "relation_to_type_material                                                   na\n",
       "asm_not_live_date                                                           na\n",
       "assembly_type                                            haploid-with-alt-loci\n",
       "group                                                     vertebrate_mammalian\n",
       "genome_size                                                         3099441038\n",
       "genome_size_ungapped                                                2948318359\n",
       "gc_percent                                                                41.0\n",
       "replicon_count                                                              24\n",
       "scaffold_count                                                             470\n",
       "contig_count                                                             35611\n",
       "annotation_provider                                                NCBI RefSeq\n",
       "annotation_name                                    GCF_000001405.40-RS_2023_10\n",
       "annotation_date                                                     2023/10/02\n",
       "total_gene_count                                                         59652\n",
       "protein_coding_gene_count                                                20080\n",
       "non_coding_gene_count                                                    22158\n",
       "pubmed_id                    10508508;11780052;7219534;10830953;15496913;12...\n",
       "Name: 0, dtype: object"
      ]
     },
     "execution_count": 4,
     "metadata": {},
     "output_type": "execute_result"
    }
   ],
   "source": [
    "from genet.database import GetChromosome\n",
    "\n",
    "chromosome = GetChromosome('Homo sapiens')\n",
    "chromosome()"
   ]
  },
  {
   "cell_type": "code",
   "execution_count": 2,
   "metadata": {},
   "outputs": [
    {
     "data": {
      "text/plain": [
       "'https://ftp.ncbi.nlm.nih.gov/genomes/all/GCF/000/001/405/GCF_000001405.40_GRCh38.p14/GCF_000001405.40_GRCh38.p14_assembly_structure/Primary_Assembly/assembled_chromosomes/FASTA/'"
      ]
     },
     "execution_count": 2,
     "metadata": {},
     "output_type": "execute_result"
    }
   ],
   "source": [
    "# NCBI FTP 서버에서 chromosome 파일을 다운로드 할 경로를 보여줍니다.\n",
    "chromosome.info.ftp_path"
   ]
  },
  {
   "cell_type": "code",
   "execution_count": 5,
   "metadata": {},
   "outputs": [
    {
     "data": {
      "text/plain": [
       "['chr1.fna.gz',\n",
       " 'chr10.fna.gz',\n",
       " 'chr11.fna.gz',\n",
       " 'chr12.fna.gz',\n",
       " 'chr13.fna.gz',\n",
       " 'chr14.fna.gz',\n",
       " 'chr15.fna.gz',\n",
       " 'chr16.fna.gz',\n",
       " 'chr17.fna.gz',\n",
       " 'chr18.fna.gz',\n",
       " 'chr19.fna.gz',\n",
       " 'chr2.fna.gz',\n",
       " 'chr20.fna.gz',\n",
       " 'chr21.fna.gz',\n",
       " 'chr22.fna.gz',\n",
       " 'chr3.fna.gz',\n",
       " 'chr4.fna.gz',\n",
       " 'chr5.fna.gz',\n",
       " 'chr6.fna.gz',\n",
       " 'chr7.fna.gz',\n",
       " 'chr8.fna.gz',\n",
       " 'chr9.fna.gz',\n",
       " 'chrX.fna.gz',\n",
       " 'chrY.fna.gz']"
      ]
     },
     "execution_count": 5,
     "metadata": {},
     "output_type": "execute_result"
    }
   ],
   "source": [
    "# 현재 다운로드 받을 수 있는 chromosome files의 정보를 list로 보여줍니다.\n",
    "chromosome.contents()"
   ]
  },
  {
   "cell_type": "code",
   "execution_count": 4,
   "metadata": {},
   "outputs": [
    {
     "name": "stderr",
     "output_type": "stream",
     "text": [
      "[Info] Downloading chr1.fna.gz: 100%|██████████| 62.4M/62.4M [01:15<00:00, 865kB/s] \n"
     ]
    },
    {
     "name": "stdout",
     "output_type": "stream",
     "text": [
      "[Info] File downloaded successfully: .//chr1.fna.gz\n",
      "[Info] Decompressing gzipped file: chr1.fna.gz\n"
     ]
    }
   ],
   "source": [
    "# 현재 경로에 chromosome 1의 FASTA 파일을 다운로드하고, 동시에 gzip 압축을 해제합니다.\n",
    "chromosome.download('chr1.fna.gz', decompress=True)"
   ]
  }
 ],
 "metadata": {
  "kernelspec": {
   "display_name": "genet",
   "language": "python",
   "name": "python3"
  },
  "language_info": {
   "codemirror_mode": {
    "name": "ipython",
    "version": 3
   },
   "file_extension": ".py",
   "mimetype": "text/x-python",
   "name": "python",
   "nbconvert_exporter": "python",
   "pygments_lexer": "ipython3",
   "version": "3.9.0"
  }
 },
 "nbformat": 4,
 "nbformat_minor": 2
}
