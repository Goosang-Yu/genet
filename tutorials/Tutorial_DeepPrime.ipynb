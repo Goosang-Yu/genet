{
 "cells": [
  {
   "cell_type": "markdown",
   "metadata": {},
   "source": [
    "## :star: GenET predict module - DeepPrime\n",
    "\n",
    "GenET의 predict module은 CRISPR-Cas system들의 gRNA 효율을 예측하는 deep learning model을 손쉽게 사용할 수 있는 함수들을 제공합니다.\n",
    "이 중, DeepPrime은 prime editing과 관련된 prime editing gRNA (pegRNA)의 효율을 예측하는 모델입니다. \n",
    "DeepPrime은 크게 아래의 class들을 불러와서 사용할 수 있습니다. \n",
    "\n",
    "- DeepPrime\n",
    "- DeepPrimeGuideRNA\n",
    "- DeepPrimeOff\n",
    "\n",
    "아래의 예시 코드를 이용해서 원하는 기능들을 사용해보세요!"
   ]
  },
  {
   "cell_type": "markdown",
   "metadata": {},
   "source": [
    "### 💾 Install GenET\n",
    "---\n",
    "우선 아래의 기능들을 사용하기 위해서, 현재 environment에 `genet`을 설치합니다. 터미널에 아래의 명령어로 설치할 수 있습니다.\n",
    "\n",
    "```bash\n",
    "$ conda create -n genet python=3.9\n",
    "$ conda activate genet\n",
    "$ pip install genet\n",
    "```\n",
    "\n",
    "추가로, genet.prediction module을 사용하기 위해서는 PyTorch와 ViennaRNA를 추가로 설치해줘야 합니다. \n",
    "\n",
    "```bash\n",
    "$ pip install torch==1.11.0+cu113 --extra-index-url https://download.pytorch.org/whl/cu113\n",
    "$ conda install viennarna\n",
    "```"
   ]
  },
  {
   "cell_type": "markdown",
   "metadata": {},
   "source": [
    "### 🔥 DeepPrime\n",
    "---\n",
    "class `DeepPrime`은 target sequence를 기준으로 만들 수 있는 모든 pegRNA를 자동으로 디자인해주고, 각각의 predicted efficiency를 계산해준다.\n",
    "우선 만들고자 하는 sequence 정보가 담긴 target (unedited and prime-edited) sequence를 준비하고, 모든 pegRNA를 디자인한다.\n",
    "\n",
    "DeepPrime은 각 pegRNA들을 설계함과 동시에 DeepPrime model에 필요한 biofeatures (Tm, GC counts, MFE ...)를 함께 계산해준다. 이러한 biofeatures를 포함한 전체 데이터를 확인하고 싶다면 `.features`를 사용해서 pd.DataFrame 형태로 불러올 수 있다. "
   ]
  },
  {
   "cell_type": "code",
   "execution_count": 1,
   "metadata": {},
   "outputs": [
    {
     "data": {
      "text/html": [
       "<div>\n",
       "<style scoped>\n",
       "    .dataframe tbody tr th:only-of-type {\n",
       "        vertical-align: middle;\n",
       "    }\n",
       "\n",
       "    .dataframe tbody tr th {\n",
       "        vertical-align: top;\n",
       "    }\n",
       "\n",
       "    .dataframe thead th {\n",
       "        text-align: right;\n",
       "    }\n",
       "</style>\n",
       "<table border=\"1\" class=\"dataframe\">\n",
       "  <thead>\n",
       "    <tr style=\"text-align: right;\">\n",
       "      <th></th>\n",
       "      <th>ID</th>\n",
       "      <th>Spacer</th>\n",
       "      <th>RT-PBS</th>\n",
       "      <th>PBS_len</th>\n",
       "      <th>RTT_len</th>\n",
       "      <th>RT-PBS_len</th>\n",
       "      <th>Edit_pos</th>\n",
       "      <th>Edit_len</th>\n",
       "      <th>RHA_len</th>\n",
       "      <th>Target</th>\n",
       "      <th>...</th>\n",
       "      <th>deltaTm_Tm4-Tm2</th>\n",
       "      <th>GC_count_PBS</th>\n",
       "      <th>GC_count_RTT</th>\n",
       "      <th>GC_count_RT-PBS</th>\n",
       "      <th>GC_contents_PBS</th>\n",
       "      <th>GC_contents_RTT</th>\n",
       "      <th>GC_contents_RT-PBS</th>\n",
       "      <th>MFE_RT-PBS-polyT</th>\n",
       "      <th>MFE_Spacer</th>\n",
       "      <th>DeepSpCas9_score</th>\n",
       "    </tr>\n",
       "  </thead>\n",
       "  <tbody>\n",
       "    <tr>\n",
       "      <th>0</th>\n",
       "      <td>SampleName</td>\n",
       "      <td>AAGACAACACCCTTGCCTTG</td>\n",
       "      <td>CGTCTCAGTTTCTGGGAGCTTTGAAAACTCCACAAGGCAAGG</td>\n",
       "      <td>7</td>\n",
       "      <td>35</td>\n",
       "      <td>42</td>\n",
       "      <td>34</td>\n",
       "      <td>1</td>\n",
       "      <td>1</td>\n",
       "      <td>ATAAAAGACAACACCCTTGCCTTGTGGAGTTTTCAAAGCTCCCAGA...</td>\n",
       "      <td>...</td>\n",
       "      <td>-340.104846</td>\n",
       "      <td>5</td>\n",
       "      <td>16</td>\n",
       "      <td>21</td>\n",
       "      <td>71.428571</td>\n",
       "      <td>45.714286</td>\n",
       "      <td>50.000000</td>\n",
       "      <td>-10.4</td>\n",
       "      <td>-0.6</td>\n",
       "      <td>45.967537</td>\n",
       "    </tr>\n",
       "    <tr>\n",
       "      <th>1</th>\n",
       "      <td>SampleName</td>\n",
       "      <td>AAGACAACACCCTTGCCTTG</td>\n",
       "      <td>CGTCTCAGTTTCTGGGAGCTTTGAAAACTCCACAAGGCAAGGG</td>\n",
       "      <td>8</td>\n",
       "      <td>35</td>\n",
       "      <td>43</td>\n",
       "      <td>34</td>\n",
       "      <td>1</td>\n",
       "      <td>1</td>\n",
       "      <td>ATAAAAGACAACACCCTTGCCTTGTGGAGTTTTCAAAGCTCCCAGA...</td>\n",
       "      <td>...</td>\n",
       "      <td>-340.104846</td>\n",
       "      <td>6</td>\n",
       "      <td>16</td>\n",
       "      <td>22</td>\n",
       "      <td>75.000000</td>\n",
       "      <td>45.714286</td>\n",
       "      <td>51.162791</td>\n",
       "      <td>-10.4</td>\n",
       "      <td>-0.6</td>\n",
       "      <td>45.967537</td>\n",
       "    </tr>\n",
       "    <tr>\n",
       "      <th>2</th>\n",
       "      <td>SampleName</td>\n",
       "      <td>AAGACAACACCCTTGCCTTG</td>\n",
       "      <td>CGTCTCAGTTTCTGGGAGCTTTGAAAACTCCACAAGGCAAGGGT</td>\n",
       "      <td>9</td>\n",
       "      <td>35</td>\n",
       "      <td>44</td>\n",
       "      <td>34</td>\n",
       "      <td>1</td>\n",
       "      <td>1</td>\n",
       "      <td>ATAAAAGACAACACCCTTGCCTTGTGGAGTTTTCAAAGCTCCCAGA...</td>\n",
       "      <td>...</td>\n",
       "      <td>-340.104846</td>\n",
       "      <td>6</td>\n",
       "      <td>16</td>\n",
       "      <td>22</td>\n",
       "      <td>66.666667</td>\n",
       "      <td>45.714286</td>\n",
       "      <td>50.000000</td>\n",
       "      <td>-10.4</td>\n",
       "      <td>-0.6</td>\n",
       "      <td>45.967537</td>\n",
       "    </tr>\n",
       "    <tr>\n",
       "      <th>3</th>\n",
       "      <td>SampleName</td>\n",
       "      <td>AAGACAACACCCTTGCCTTG</td>\n",
       "      <td>CGTCTCAGTTTCTGGGAGCTTTGAAAACTCCACAAGGCAAGGGTG</td>\n",
       "      <td>10</td>\n",
       "      <td>35</td>\n",
       "      <td>45</td>\n",
       "      <td>34</td>\n",
       "      <td>1</td>\n",
       "      <td>1</td>\n",
       "      <td>ATAAAAGACAACACCCTTGCCTTGTGGAGTTTTCAAAGCTCCCAGA...</td>\n",
       "      <td>...</td>\n",
       "      <td>-340.104846</td>\n",
       "      <td>7</td>\n",
       "      <td>16</td>\n",
       "      <td>23</td>\n",
       "      <td>70.000000</td>\n",
       "      <td>45.714286</td>\n",
       "      <td>51.111111</td>\n",
       "      <td>-10.4</td>\n",
       "      <td>-0.6</td>\n",
       "      <td>45.967537</td>\n",
       "    </tr>\n",
       "    <tr>\n",
       "      <th>4</th>\n",
       "      <td>SampleName</td>\n",
       "      <td>AAGACAACACCCTTGCCTTG</td>\n",
       "      <td>CGTCTCAGTTTCTGGGAGCTTTGAAAACTCCACAAGGCAAGGGTGT</td>\n",
       "      <td>11</td>\n",
       "      <td>35</td>\n",
       "      <td>46</td>\n",
       "      <td>34</td>\n",
       "      <td>1</td>\n",
       "      <td>1</td>\n",
       "      <td>ATAAAAGACAACACCCTTGCCTTGTGGAGTTTTCAAAGCTCCCAGA...</td>\n",
       "      <td>...</td>\n",
       "      <td>-340.104846</td>\n",
       "      <td>7</td>\n",
       "      <td>16</td>\n",
       "      <td>23</td>\n",
       "      <td>63.636364</td>\n",
       "      <td>45.714286</td>\n",
       "      <td>50.000000</td>\n",
       "      <td>-10.4</td>\n",
       "      <td>-0.6</td>\n",
       "      <td>45.967537</td>\n",
       "    </tr>\n",
       "  </tbody>\n",
       "</table>\n",
       "<p>5 rows × 29 columns</p>\n",
       "</div>"
      ],
      "text/plain": [
       "           ID                Spacer  \\\n",
       "0  SampleName  AAGACAACACCCTTGCCTTG   \n",
       "1  SampleName  AAGACAACACCCTTGCCTTG   \n",
       "2  SampleName  AAGACAACACCCTTGCCTTG   \n",
       "3  SampleName  AAGACAACACCCTTGCCTTG   \n",
       "4  SampleName  AAGACAACACCCTTGCCTTG   \n",
       "\n",
       "                                           RT-PBS  PBS_len  RTT_len  \\\n",
       "0      CGTCTCAGTTTCTGGGAGCTTTGAAAACTCCACAAGGCAAGG        7       35   \n",
       "1     CGTCTCAGTTTCTGGGAGCTTTGAAAACTCCACAAGGCAAGGG        8       35   \n",
       "2    CGTCTCAGTTTCTGGGAGCTTTGAAAACTCCACAAGGCAAGGGT        9       35   \n",
       "3   CGTCTCAGTTTCTGGGAGCTTTGAAAACTCCACAAGGCAAGGGTG       10       35   \n",
       "4  CGTCTCAGTTTCTGGGAGCTTTGAAAACTCCACAAGGCAAGGGTGT       11       35   \n",
       "\n",
       "   RT-PBS_len  Edit_pos  Edit_len  RHA_len  \\\n",
       "0          42        34         1        1   \n",
       "1          43        34         1        1   \n",
       "2          44        34         1        1   \n",
       "3          45        34         1        1   \n",
       "4          46        34         1        1   \n",
       "\n",
       "                                              Target  ... deltaTm_Tm4-Tm2  \\\n",
       "0  ATAAAAGACAACACCCTTGCCTTGTGGAGTTTTCAAAGCTCCCAGA...  ...     -340.104846   \n",
       "1  ATAAAAGACAACACCCTTGCCTTGTGGAGTTTTCAAAGCTCCCAGA...  ...     -340.104846   \n",
       "2  ATAAAAGACAACACCCTTGCCTTGTGGAGTTTTCAAAGCTCCCAGA...  ...     -340.104846   \n",
       "3  ATAAAAGACAACACCCTTGCCTTGTGGAGTTTTCAAAGCTCCCAGA...  ...     -340.104846   \n",
       "4  ATAAAAGACAACACCCTTGCCTTGTGGAGTTTTCAAAGCTCCCAGA...  ...     -340.104846   \n",
       "\n",
       "   GC_count_PBS  GC_count_RTT  GC_count_RT-PBS  GC_contents_PBS  \\\n",
       "0             5            16               21        71.428571   \n",
       "1             6            16               22        75.000000   \n",
       "2             6            16               22        66.666667   \n",
       "3             7            16               23        70.000000   \n",
       "4             7            16               23        63.636364   \n",
       "\n",
       "   GC_contents_RTT  GC_contents_RT-PBS  MFE_RT-PBS-polyT  MFE_Spacer  \\\n",
       "0        45.714286           50.000000             -10.4        -0.6   \n",
       "1        45.714286           51.162791             -10.4        -0.6   \n",
       "2        45.714286           50.000000             -10.4        -0.6   \n",
       "3        45.714286           51.111111             -10.4        -0.6   \n",
       "4        45.714286           50.000000             -10.4        -0.6   \n",
       "\n",
       "   DeepSpCas9_score  \n",
       "0         45.967537  \n",
       "1         45.967537  \n",
       "2         45.967537  \n",
       "3         45.967537  \n",
       "4         45.967537  \n",
       "\n",
       "[5 rows x 29 columns]"
      ]
     },
     "execution_count": 1,
     "metadata": {},
     "output_type": "execute_result"
    }
   ],
   "source": [
    "from genet.predict import DeepPrime\n",
    "\n",
    "seq_wt   = 'ATGACAATAAAAGACAACACCCTTGCCTTGTGGAGTTTTCAAAGCTCCCAGAAACTGAGAAGAACTATAACCTGCAAATGTCAACTGAAACCTTAAAGTGAGTATTTAATTGAGCTGAAGT'\n",
    "seq_ed   = 'ATGACAATAAAAGACAACACCCTTGCCTTGTGGAGTTTTCAAAGCTCCCAGAAACTGAGACGAACTATAACCTGCAAATGTCAACTGAAACCTTAAAGTGAGTATTTAATTGAGCTGAAGT'\n",
    "\n",
    "pegrna = DeepPrime('SampleName', seq_wt, seq_ed, edit_type='sub', edit_len=1)\n",
    "\n",
    "# check designed pegRNAs and biofeatures\n",
    "pegrna.features.head()"
   ]
  },
  {
   "cell_type": "markdown",
   "metadata": {},
   "source": [
    "이제 각 pegRNA들의 editing efficiency를 예측하고 싶다면, `.predict`를 사용한다. \n",
    "각 deep learning model은 training된 모델의 최종 파일 (.pt)이 필요하며, 이는 처음 genet을 설치할 때에는 패키지의 경량화를 위해 설치되지 않는다. \n",
    "하지만 만약 genet을 이용해서 모델을 불러오거나 해당 모델을 사용하는 함수를 불러오면, 자동으로 genet이 설치된 경로에 model 파일을 다운로드 받는다. \n",
    "\n",
    "우선 아래의 예시는 PE2max를 HEK293T cell line에서 사용했을 때의 pegRNA 효율을 예측한 것이다.\n",
    "모델 파일이 설치되는 메세지가 나타나지 않았는데, 이는 tutorial 작성 전에 이미 DeepPrime-FT: HEK293T-PE2max 모델을 설치해두었기 때문이다. "
   ]
  },
  {
   "cell_type": "code",
   "execution_count": 2,
   "metadata": {},
   "outputs": [
    {
     "data": {
      "text/html": [
       "<div>\n",
       "<style scoped>\n",
       "    .dataframe tbody tr th:only-of-type {\n",
       "        vertical-align: middle;\n",
       "    }\n",
       "\n",
       "    .dataframe tbody tr th {\n",
       "        vertical-align: top;\n",
       "    }\n",
       "\n",
       "    .dataframe thead th {\n",
       "        text-align: right;\n",
       "    }\n",
       "</style>\n",
       "<table border=\"1\" class=\"dataframe\">\n",
       "  <thead>\n",
       "    <tr style=\"text-align: right;\">\n",
       "      <th></th>\n",
       "      <th>ID</th>\n",
       "      <th>PE2max_score</th>\n",
       "      <th>Spacer</th>\n",
       "      <th>RT-PBS</th>\n",
       "      <th>PBS_len</th>\n",
       "      <th>RTT_len</th>\n",
       "      <th>RT-PBS_len</th>\n",
       "      <th>Edit_pos</th>\n",
       "      <th>Edit_len</th>\n",
       "      <th>RHA_len</th>\n",
       "      <th>Target</th>\n",
       "    </tr>\n",
       "  </thead>\n",
       "  <tbody>\n",
       "    <tr>\n",
       "      <th>0</th>\n",
       "      <td>SampleName</td>\n",
       "      <td>0.904387</td>\n",
       "      <td>AAGACAACACCCTTGCCTTG</td>\n",
       "      <td>CGTCTCAGTTTCTGGGAGCTTTGAAAACTCCACAAGGCAAGG</td>\n",
       "      <td>7</td>\n",
       "      <td>35</td>\n",
       "      <td>42</td>\n",
       "      <td>34</td>\n",
       "      <td>1</td>\n",
       "      <td>1</td>\n",
       "      <td>ATAAAAGACAACACCCTTGCCTTGTGGAGTTTTCAAAGCTCCCAGA...</td>\n",
       "    </tr>\n",
       "    <tr>\n",
       "      <th>1</th>\n",
       "      <td>SampleName</td>\n",
       "      <td>2.375938</td>\n",
       "      <td>AAGACAACACCCTTGCCTTG</td>\n",
       "      <td>CGTCTCAGTTTCTGGGAGCTTTGAAAACTCCACAAGGCAAGGG</td>\n",
       "      <td>8</td>\n",
       "      <td>35</td>\n",
       "      <td>43</td>\n",
       "      <td>34</td>\n",
       "      <td>1</td>\n",
       "      <td>1</td>\n",
       "      <td>ATAAAAGACAACACCCTTGCCTTGTGGAGTTTTCAAAGCTCCCAGA...</td>\n",
       "    </tr>\n",
       "    <tr>\n",
       "      <th>2</th>\n",
       "      <td>SampleName</td>\n",
       "      <td>2.612380</td>\n",
       "      <td>AAGACAACACCCTTGCCTTG</td>\n",
       "      <td>CGTCTCAGTTTCTGGGAGCTTTGAAAACTCCACAAGGCAAGGGT</td>\n",
       "      <td>9</td>\n",
       "      <td>35</td>\n",
       "      <td>44</td>\n",
       "      <td>34</td>\n",
       "      <td>1</td>\n",
       "      <td>1</td>\n",
       "      <td>ATAAAAGACAACACCCTTGCCTTGTGGAGTTTTCAAAGCTCCCAGA...</td>\n",
       "    </tr>\n",
       "    <tr>\n",
       "      <th>3</th>\n",
       "      <td>SampleName</td>\n",
       "      <td>3.641537</td>\n",
       "      <td>AAGACAACACCCTTGCCTTG</td>\n",
       "      <td>CGTCTCAGTTTCTGGGAGCTTTGAAAACTCCACAAGGCAAGGGTG</td>\n",
       "      <td>10</td>\n",
       "      <td>35</td>\n",
       "      <td>45</td>\n",
       "      <td>34</td>\n",
       "      <td>1</td>\n",
       "      <td>1</td>\n",
       "      <td>ATAAAAGACAACACCCTTGCCTTGTGGAGTTTTCAAAGCTCCCAGA...</td>\n",
       "    </tr>\n",
       "    <tr>\n",
       "      <th>4</th>\n",
       "      <td>SampleName</td>\n",
       "      <td>3.768321</td>\n",
       "      <td>AAGACAACACCCTTGCCTTG</td>\n",
       "      <td>CGTCTCAGTTTCTGGGAGCTTTGAAAACTCCACAAGGCAAGGGTGT</td>\n",
       "      <td>11</td>\n",
       "      <td>35</td>\n",
       "      <td>46</td>\n",
       "      <td>34</td>\n",
       "      <td>1</td>\n",
       "      <td>1</td>\n",
       "      <td>ATAAAAGACAACACCCTTGCCTTGTGGAGTTTTCAAAGCTCCCAGA...</td>\n",
       "    </tr>\n",
       "  </tbody>\n",
       "</table>\n",
       "</div>"
      ],
      "text/plain": [
       "           ID  PE2max_score                Spacer  \\\n",
       "0  SampleName      0.904387  AAGACAACACCCTTGCCTTG   \n",
       "1  SampleName      2.375938  AAGACAACACCCTTGCCTTG   \n",
       "2  SampleName      2.612380  AAGACAACACCCTTGCCTTG   \n",
       "3  SampleName      3.641537  AAGACAACACCCTTGCCTTG   \n",
       "4  SampleName      3.768321  AAGACAACACCCTTGCCTTG   \n",
       "\n",
       "                                           RT-PBS  PBS_len  RTT_len  \\\n",
       "0      CGTCTCAGTTTCTGGGAGCTTTGAAAACTCCACAAGGCAAGG        7       35   \n",
       "1     CGTCTCAGTTTCTGGGAGCTTTGAAAACTCCACAAGGCAAGGG        8       35   \n",
       "2    CGTCTCAGTTTCTGGGAGCTTTGAAAACTCCACAAGGCAAGGGT        9       35   \n",
       "3   CGTCTCAGTTTCTGGGAGCTTTGAAAACTCCACAAGGCAAGGGTG       10       35   \n",
       "4  CGTCTCAGTTTCTGGGAGCTTTGAAAACTCCACAAGGCAAGGGTGT       11       35   \n",
       "\n",
       "   RT-PBS_len  Edit_pos  Edit_len  RHA_len  \\\n",
       "0          42        34         1        1   \n",
       "1          43        34         1        1   \n",
       "2          44        34         1        1   \n",
       "3          45        34         1        1   \n",
       "4          46        34         1        1   \n",
       "\n",
       "                                              Target  \n",
       "0  ATAAAAGACAACACCCTTGCCTTGTGGAGTTTTCAAAGCTCCCAGA...  \n",
       "1  ATAAAAGACAACACCCTTGCCTTGTGGAGTTTTCAAAGCTCCCAGA...  \n",
       "2  ATAAAAGACAACACCCTTGCCTTGTGGAGTTTTCAAAGCTCCCAGA...  \n",
       "3  ATAAAAGACAACACCCTTGCCTTGTGGAGTTTTCAAAGCTCCCAGA...  \n",
       "4  ATAAAAGACAACACCCTTGCCTTGTGGAGTTTTCAAAGCTCCCAGA...  "
      ]
     },
     "execution_count": 2,
     "metadata": {},
     "output_type": "execute_result"
    }
   ],
   "source": [
    "pe2max_output = pegrna.predict(pe_system='PE2max', cell_type='HEK293T')\n",
    "\n",
    "pe2max_output.head()"
   ]
  },
  {
   "cell_type": "markdown",
   "metadata": {},
   "source": [
    "만약, PE2max가 아니라 PE4max-e (PE2max + MMR knockdown + epegRNA system)을 사용한 경우를 예측하고 싶다면, 아래와 같이 옵션을 조정한다.\n",
    "\n",
    "추가로 더 사용할 수 있는 옵션들에 대해서 확인하고 싶다면, [documentation](https://goosang-yu.github.io/genet/1_Predict/4_predict_pe/#predicting-efficiencies-of-existing-pegrnas)을 확인하라.\n",
    "\n",
    "DeepPrime-FT: HEK293T-PE4max-e를 처음 불러오는 상황이기 떄문에, 먼저 모델 파일을 다운로드한 후 함수가 실행된다. 한번 다운로드 된 모델 파일은 같은 (가상) 환경에서는 추가로 다운로드 할 필요가 없다. 파일을 다운로드 하는 속도는 사용자의 컴퓨터와 인터넷 상태에 따라 다르다."
   ]
  },
  {
   "cell_type": "code",
   "execution_count": 3,
   "metadata": {},
   "outputs": [
    {
     "name": "stdout",
     "output_type": "stream",
     "text": [
      "The model DeepPrime/DP_variant_293T_PE4max_epegRNA_Opti_220428 is not installed. Download checkpoint files.\n",
      "\n"
     ]
    },
    {
     "name": "stderr",
     "output_type": "stream",
     "text": [
      "Downloading: 0KB [00:00, ?KB/s]\n"
     ]
    },
    {
     "name": "stdout",
     "output_type": "stream",
     "text": [
      "File downloaded successfully: /home/gsyu/projects/genet/genet/models/DeepPrime/DP_variant_293T_PE4max_epegRNA_Opti_220428/__init__.py\n"
     ]
    },
    {
     "name": "stderr",
     "output_type": "stream",
     "text": [
      "Downloading: 1KB [00:00, 1319.79KB/s]\n"
     ]
    },
    {
     "name": "stdout",
     "output_type": "stream",
     "text": [
      "File downloaded successfully: /home/gsyu/projects/genet/genet/models/DeepPrime/DP_variant_293T_PE4max_epegRNA_Opti_220428/dp_mean.csv\n"
     ]
    },
    {
     "name": "stderr",
     "output_type": "stream",
     "text": [
      "Downloading: 1KB [00:00, 947.44KB/s]\n"
     ]
    },
    {
     "name": "stdout",
     "output_type": "stream",
     "text": [
      "File downloaded successfully: /home/gsyu/projects/genet/genet/models/DeepPrime/DP_variant_293T_PE4max_epegRNA_Opti_220428/dp_std.csv\n"
     ]
    },
    {
     "name": "stderr",
     "output_type": "stream",
     "text": [
      "Downloading: 337KB [00:00, 1345.73KB/s]                         \n"
     ]
    },
    {
     "name": "stdout",
     "output_type": "stream",
     "text": [
      "File downloaded successfully: /home/gsyu/projects/genet/genet/models/DeepPrime/DP_variant_293T_PE4max_epegRNA_Opti_220428/final_model_0.pt\n"
     ]
    },
    {
     "name": "stderr",
     "output_type": "stream",
     "text": [
      "Downloading: 337KB [00:00, 1128.57KB/s]                         \n"
     ]
    },
    {
     "name": "stdout",
     "output_type": "stream",
     "text": [
      "File downloaded successfully: /home/gsyu/projects/genet/genet/models/DeepPrime/DP_variant_293T_PE4max_epegRNA_Opti_220428/final_model_1.pt\n"
     ]
    },
    {
     "name": "stderr",
     "output_type": "stream",
     "text": [
      "Downloading: 337KB [00:00, 1305.80KB/s]                         \n"
     ]
    },
    {
     "name": "stdout",
     "output_type": "stream",
     "text": [
      "File downloaded successfully: /home/gsyu/projects/genet/genet/models/DeepPrime/DP_variant_293T_PE4max_epegRNA_Opti_220428/final_model_2.pt\n"
     ]
    },
    {
     "name": "stderr",
     "output_type": "stream",
     "text": [
      "Downloading: 337KB [00:00, 1082.29KB/s]                         \n"
     ]
    },
    {
     "name": "stdout",
     "output_type": "stream",
     "text": [
      "File downloaded successfully: /home/gsyu/projects/genet/genet/models/DeepPrime/DP_variant_293T_PE4max_epegRNA_Opti_220428/final_model_3.pt\n"
     ]
    },
    {
     "name": "stderr",
     "output_type": "stream",
     "text": [
      "Downloading: 337KB [00:00, 1216.90KB/s]                         \n"
     ]
    },
    {
     "name": "stdout",
     "output_type": "stream",
     "text": [
      "File downloaded successfully: /home/gsyu/projects/genet/genet/models/DeepPrime/DP_variant_293T_PE4max_epegRNA_Opti_220428/final_model_4.pt\n"
     ]
    },
    {
     "name": "stderr",
     "output_type": "stream",
     "text": [
      "Downloading: 337KB [00:00, 849.48KB/s]                          \n"
     ]
    },
    {
     "name": "stdout",
     "output_type": "stream",
     "text": [
      "File downloaded successfully: /home/gsyu/projects/genet/genet/models/DeepPrime/DP_variant_293T_PE4max_epegRNA_Opti_220428/final_model_5.pt\n"
     ]
    },
    {
     "name": "stderr",
     "output_type": "stream",
     "text": [
      "Downloading: 337KB [00:00, 1284.55KB/s]                         \n"
     ]
    },
    {
     "name": "stdout",
     "output_type": "stream",
     "text": [
      "File downloaded successfully: /home/gsyu/projects/genet/genet/models/DeepPrime/DP_variant_293T_PE4max_epegRNA_Opti_220428/final_model_6.pt\n"
     ]
    },
    {
     "name": "stderr",
     "output_type": "stream",
     "text": [
      "Downloading: 337KB [00:00, 1332.07KB/s]                         \n"
     ]
    },
    {
     "name": "stdout",
     "output_type": "stream",
     "text": [
      "File downloaded successfully: /home/gsyu/projects/genet/genet/models/DeepPrime/DP_variant_293T_PE4max_epegRNA_Opti_220428/final_model_7.pt\n"
     ]
    },
    {
     "name": "stderr",
     "output_type": "stream",
     "text": [
      "Downloading: 337KB [00:00, 1259.86KB/s]                         \n"
     ]
    },
    {
     "name": "stdout",
     "output_type": "stream",
     "text": [
      "File downloaded successfully: /home/gsyu/projects/genet/genet/models/DeepPrime/DP_variant_293T_PE4max_epegRNA_Opti_220428/final_model_8.pt\n"
     ]
    },
    {
     "name": "stderr",
     "output_type": "stream",
     "text": [
      "Downloading: 337KB [00:00, 1281.58KB/s]                         \n"
     ]
    },
    {
     "name": "stdout",
     "output_type": "stream",
     "text": [
      "File downloaded successfully: /home/gsyu/projects/genet/genet/models/DeepPrime/DP_variant_293T_PE4max_epegRNA_Opti_220428/final_model_9.pt\n"
     ]
    },
    {
     "name": "stderr",
     "output_type": "stream",
     "text": [
      "Downloading: 337KB [00:00, 1289.06KB/s]                         \n"
     ]
    },
    {
     "name": "stdout",
     "output_type": "stream",
     "text": [
      "File downloaded successfully: /home/gsyu/projects/genet/genet/models/DeepPrime/DP_variant_293T_PE4max_epegRNA_Opti_220428/final_model_10.pt\n"
     ]
    },
    {
     "name": "stderr",
     "output_type": "stream",
     "text": [
      "Downloading: 337KB [00:00, 1343.60KB/s]                         \n"
     ]
    },
    {
     "name": "stdout",
     "output_type": "stream",
     "text": [
      "File downloaded successfully: /home/gsyu/projects/genet/genet/models/DeepPrime/DP_variant_293T_PE4max_epegRNA_Opti_220428/final_model_11.pt\n"
     ]
    },
    {
     "name": "stderr",
     "output_type": "stream",
     "text": [
      "Downloading: 337KB [00:00, 1453.29KB/s]                         \n"
     ]
    },
    {
     "name": "stdout",
     "output_type": "stream",
     "text": [
      "File downloaded successfully: /home/gsyu/projects/genet/genet/models/DeepPrime/DP_variant_293T_PE4max_epegRNA_Opti_220428/final_model_12.pt\n"
     ]
    },
    {
     "name": "stderr",
     "output_type": "stream",
     "text": [
      "Downloading: 337KB [00:00, 1253.20KB/s]                         \n"
     ]
    },
    {
     "name": "stdout",
     "output_type": "stream",
     "text": [
      "File downloaded successfully: /home/gsyu/projects/genet/genet/models/DeepPrime/DP_variant_293T_PE4max_epegRNA_Opti_220428/final_model_13.pt\n"
     ]
    },
    {
     "name": "stderr",
     "output_type": "stream",
     "text": [
      "Downloading: 337KB [00:00, 1153.94KB/s]                         \n"
     ]
    },
    {
     "name": "stdout",
     "output_type": "stream",
     "text": [
      "File downloaded successfully: /home/gsyu/projects/genet/genet/models/DeepPrime/DP_variant_293T_PE4max_epegRNA_Opti_220428/final_model_14.pt\n"
     ]
    },
    {
     "name": "stderr",
     "output_type": "stream",
     "text": [
      "Downloading: 337KB [00:00, 1248.96KB/s]                         \n"
     ]
    },
    {
     "name": "stdout",
     "output_type": "stream",
     "text": [
      "File downloaded successfully: /home/gsyu/projects/genet/genet/models/DeepPrime/DP_variant_293T_PE4max_epegRNA_Opti_220428/final_model_15.pt\n"
     ]
    },
    {
     "name": "stderr",
     "output_type": "stream",
     "text": [
      "Downloading: 337KB [00:00, 987.23KB/s]                          \n"
     ]
    },
    {
     "name": "stdout",
     "output_type": "stream",
     "text": [
      "File downloaded successfully: /home/gsyu/projects/genet/genet/models/DeepPrime/DP_variant_293T_PE4max_epegRNA_Opti_220428/final_model_16.pt\n"
     ]
    },
    {
     "name": "stderr",
     "output_type": "stream",
     "text": [
      "Downloading: 337KB [00:00, 845.92KB/s]                          \n"
     ]
    },
    {
     "name": "stdout",
     "output_type": "stream",
     "text": [
      "File downloaded successfully: /home/gsyu/projects/genet/genet/models/DeepPrime/DP_variant_293T_PE4max_epegRNA_Opti_220428/final_model_17.pt\n"
     ]
    },
    {
     "name": "stderr",
     "output_type": "stream",
     "text": [
      "Downloading: 337KB [00:00, 1457.00KB/s]                         \n"
     ]
    },
    {
     "name": "stdout",
     "output_type": "stream",
     "text": [
      "File downloaded successfully: /home/gsyu/projects/genet/genet/models/DeepPrime/DP_variant_293T_PE4max_epegRNA_Opti_220428/final_model_18.pt\n"
     ]
    },
    {
     "name": "stderr",
     "output_type": "stream",
     "text": [
      "Downloading: 337KB [00:00, 1406.65KB/s]                         \n"
     ]
    },
    {
     "name": "stdout",
     "output_type": "stream",
     "text": [
      "File downloaded successfully: /home/gsyu/projects/genet/genet/models/DeepPrime/DP_variant_293T_PE4max_epegRNA_Opti_220428/final_model_19.pt\n"
     ]
    },
    {
     "name": "stderr",
     "output_type": "stream",
     "text": [
      "Downloading: 1KB [00:00, 1400.90KB/s]\n"
     ]
    },
    {
     "name": "stdout",
     "output_type": "stream",
     "text": [
      "File downloaded successfully: /home/gsyu/projects/genet/genet/models/DeepPrime/DP_variant_293T_PE4max_epegRNA_Opti_220428/mean.csv\n"
     ]
    },
    {
     "name": "stderr",
     "output_type": "stream",
     "text": [
      "Downloading: 1KB [00:00, 2040.03KB/s]\n"
     ]
    },
    {
     "name": "stdout",
     "output_type": "stream",
     "text": [
      "File downloaded successfully: /home/gsyu/projects/genet/genet/models/DeepPrime/DP_variant_293T_PE4max_epegRNA_Opti_220428/std.csv\n"
     ]
    },
    {
     "name": "stderr",
     "output_type": "stream",
     "text": [
      "Downloading: 1KB [00:00, 1161.21KB/s]\n"
     ]
    },
    {
     "name": "stdout",
     "output_type": "stream",
     "text": [
      "File downloaded successfully: /home/gsyu/projects/genet/genet/models/DeepPrime/DP_variant_293T_PE4max_epegRNA_Opti_220428/mean_231124.csv\n"
     ]
    },
    {
     "name": "stderr",
     "output_type": "stream",
     "text": [
      "Downloading: 1KB [00:00, 3429.52KB/s]\n"
     ]
    },
    {
     "name": "stdout",
     "output_type": "stream",
     "text": [
      "File downloaded successfully: /home/gsyu/projects/genet/genet/models/DeepPrime/DP_variant_293T_PE4max_epegRNA_Opti_220428/std_231124.csv\n"
     ]
    },
    {
     "data": {
      "text/html": [
       "<div>\n",
       "<style scoped>\n",
       "    .dataframe tbody tr th:only-of-type {\n",
       "        vertical-align: middle;\n",
       "    }\n",
       "\n",
       "    .dataframe tbody tr th {\n",
       "        vertical-align: top;\n",
       "    }\n",
       "\n",
       "    .dataframe thead th {\n",
       "        text-align: right;\n",
       "    }\n",
       "</style>\n",
       "<table border=\"1\" class=\"dataframe\">\n",
       "  <thead>\n",
       "    <tr style=\"text-align: right;\">\n",
       "      <th></th>\n",
       "      <th>ID</th>\n",
       "      <th>PE4max-e_score</th>\n",
       "      <th>Spacer</th>\n",
       "      <th>RT-PBS</th>\n",
       "      <th>PBS_len</th>\n",
       "      <th>RTT_len</th>\n",
       "      <th>RT-PBS_len</th>\n",
       "      <th>Edit_pos</th>\n",
       "      <th>Edit_len</th>\n",
       "      <th>RHA_len</th>\n",
       "      <th>Target</th>\n",
       "    </tr>\n",
       "  </thead>\n",
       "  <tbody>\n",
       "    <tr>\n",
       "      <th>0</th>\n",
       "      <td>SampleName</td>\n",
       "      <td>2.095974</td>\n",
       "      <td>AAGACAACACCCTTGCCTTG</td>\n",
       "      <td>CGTCTCAGTTTCTGGGAGCTTTGAAAACTCCACAAGGCAAGG</td>\n",
       "      <td>7</td>\n",
       "      <td>35</td>\n",
       "      <td>42</td>\n",
       "      <td>34</td>\n",
       "      <td>1</td>\n",
       "      <td>1</td>\n",
       "      <td>ATAAAAGACAACACCCTTGCCTTGTGGAGTTTTCAAAGCTCCCAGA...</td>\n",
       "    </tr>\n",
       "    <tr>\n",
       "      <th>1</th>\n",
       "      <td>SampleName</td>\n",
       "      <td>4.202025</td>\n",
       "      <td>AAGACAACACCCTTGCCTTG</td>\n",
       "      <td>CGTCTCAGTTTCTGGGAGCTTTGAAAACTCCACAAGGCAAGGG</td>\n",
       "      <td>8</td>\n",
       "      <td>35</td>\n",
       "      <td>43</td>\n",
       "      <td>34</td>\n",
       "      <td>1</td>\n",
       "      <td>1</td>\n",
       "      <td>ATAAAAGACAACACCCTTGCCTTGTGGAGTTTTCAAAGCTCCCAGA...</td>\n",
       "    </tr>\n",
       "    <tr>\n",
       "      <th>2</th>\n",
       "      <td>SampleName</td>\n",
       "      <td>5.702226</td>\n",
       "      <td>AAGACAACACCCTTGCCTTG</td>\n",
       "      <td>CGTCTCAGTTTCTGGGAGCTTTGAAAACTCCACAAGGCAAGGGT</td>\n",
       "      <td>9</td>\n",
       "      <td>35</td>\n",
       "      <td>44</td>\n",
       "      <td>34</td>\n",
       "      <td>1</td>\n",
       "      <td>1</td>\n",
       "      <td>ATAAAAGACAACACCCTTGCCTTGTGGAGTTTTCAAAGCTCCCAGA...</td>\n",
       "    </tr>\n",
       "    <tr>\n",
       "      <th>3</th>\n",
       "      <td>SampleName</td>\n",
       "      <td>5.970952</td>\n",
       "      <td>AAGACAACACCCTTGCCTTG</td>\n",
       "      <td>CGTCTCAGTTTCTGGGAGCTTTGAAAACTCCACAAGGCAAGGGTG</td>\n",
       "      <td>10</td>\n",
       "      <td>35</td>\n",
       "      <td>45</td>\n",
       "      <td>34</td>\n",
       "      <td>1</td>\n",
       "      <td>1</td>\n",
       "      <td>ATAAAAGACAACACCCTTGCCTTGTGGAGTTTTCAAAGCTCCCAGA...</td>\n",
       "    </tr>\n",
       "    <tr>\n",
       "      <th>4</th>\n",
       "      <td>SampleName</td>\n",
       "      <td>6.580553</td>\n",
       "      <td>AAGACAACACCCTTGCCTTG</td>\n",
       "      <td>CGTCTCAGTTTCTGGGAGCTTTGAAAACTCCACAAGGCAAGGGTGT</td>\n",
       "      <td>11</td>\n",
       "      <td>35</td>\n",
       "      <td>46</td>\n",
       "      <td>34</td>\n",
       "      <td>1</td>\n",
       "      <td>1</td>\n",
       "      <td>ATAAAAGACAACACCCTTGCCTTGTGGAGTTTTCAAAGCTCCCAGA...</td>\n",
       "    </tr>\n",
       "  </tbody>\n",
       "</table>\n",
       "</div>"
      ],
      "text/plain": [
       "           ID  PE4max-e_score                Spacer  \\\n",
       "0  SampleName        2.095974  AAGACAACACCCTTGCCTTG   \n",
       "1  SampleName        4.202025  AAGACAACACCCTTGCCTTG   \n",
       "2  SampleName        5.702226  AAGACAACACCCTTGCCTTG   \n",
       "3  SampleName        5.970952  AAGACAACACCCTTGCCTTG   \n",
       "4  SampleName        6.580553  AAGACAACACCCTTGCCTTG   \n",
       "\n",
       "                                           RT-PBS  PBS_len  RTT_len  \\\n",
       "0      CGTCTCAGTTTCTGGGAGCTTTGAAAACTCCACAAGGCAAGG        7       35   \n",
       "1     CGTCTCAGTTTCTGGGAGCTTTGAAAACTCCACAAGGCAAGGG        8       35   \n",
       "2    CGTCTCAGTTTCTGGGAGCTTTGAAAACTCCACAAGGCAAGGGT        9       35   \n",
       "3   CGTCTCAGTTTCTGGGAGCTTTGAAAACTCCACAAGGCAAGGGTG       10       35   \n",
       "4  CGTCTCAGTTTCTGGGAGCTTTGAAAACTCCACAAGGCAAGGGTGT       11       35   \n",
       "\n",
       "   RT-PBS_len  Edit_pos  Edit_len  RHA_len  \\\n",
       "0          42        34         1        1   \n",
       "1          43        34         1        1   \n",
       "2          44        34         1        1   \n",
       "3          45        34         1        1   \n",
       "4          46        34         1        1   \n",
       "\n",
       "                                              Target  \n",
       "0  ATAAAAGACAACACCCTTGCCTTGTGGAGTTTTCAAAGCTCCCAGA...  \n",
       "1  ATAAAAGACAACACCCTTGCCTTGTGGAGTTTTCAAAGCTCCCAGA...  \n",
       "2  ATAAAAGACAACACCCTTGCCTTGTGGAGTTTTCAAAGCTCCCAGA...  \n",
       "3  ATAAAAGACAACACCCTTGCCTTGTGGAGTTTTCAAAGCTCCCAGA...  \n",
       "4  ATAAAAGACAACACCCTTGCCTTGTGGAGTTTTCAAAGCTCCCAGA...  "
      ]
     },
     "execution_count": 3,
     "metadata": {},
     "output_type": "execute_result"
    }
   ],
   "source": [
    "pe4max_e_output = pegrna.predict(pe_system='PE4max-e', cell_type='HEK293T')\n",
    "\n",
    "pe4max_e_output.head()"
   ]
  },
  {
   "cell_type": "markdown",
   "metadata": {},
   "source": [
    "### 🔥 DeepPrimeGuideRNA\n",
    "---\n",
    "class `DeepPrimeGuideRNA`는 이미 정해진 pegRNA와 target에 대해서 prime editing efficiency를 예측하기 위한 기능을 제공한다. 우선 아래와 같이 불러온다."
   ]
  },
  {
   "cell_type": "code",
   "execution_count": 4,
   "metadata": {},
   "outputs": [],
   "source": [
    "from genet.predict import DeepPrimeGuideRNA"
   ]
  },
  {
   "cell_type": "markdown",
   "metadata": {},
   "source": [
    "Target sequence는 정확히 74nt DNA sequence를 입력해야 하며, 아래와 같이 특정한 위치가 고정되어 있다. \n",
    "- Position 5-24: Protospacer\n",
    "- Position 25-27: PAM\n",
    "\n",
    "그 외에 edit length, position, and type에 대한 정확한 정보가 함께 입력되어야 한다. 아래는 이를 사용하는 예시이다. \n",
    "\n",
    "`DeepPrime`과 마찬가지로, `.features`을 사용해서 입력된 pegRNA에 대한 feature 정보가 담긴 DataFrame을 볼 수 있다. "
   ]
  },
  {
   "cell_type": "code",
   "execution_count": 6,
   "metadata": {},
   "outputs": [
    {
     "data": {
      "text/html": [
       "<div>\n",
       "<style scoped>\n",
       "    .dataframe tbody tr th:only-of-type {\n",
       "        vertical-align: middle;\n",
       "    }\n",
       "\n",
       "    .dataframe tbody tr th {\n",
       "        vertical-align: top;\n",
       "    }\n",
       "\n",
       "    .dataframe thead th {\n",
       "        text-align: right;\n",
       "    }\n",
       "</style>\n",
       "<table border=\"1\" class=\"dataframe\">\n",
       "  <thead>\n",
       "    <tr style=\"text-align: right;\">\n",
       "      <th></th>\n",
       "      <th>ID</th>\n",
       "      <th>Spacer</th>\n",
       "      <th>RT-PBS</th>\n",
       "      <th>PBS_len</th>\n",
       "      <th>RTT_len</th>\n",
       "      <th>RT-PBS_len</th>\n",
       "      <th>Edit_pos</th>\n",
       "      <th>Edit_len</th>\n",
       "      <th>RHA_len</th>\n",
       "      <th>Target</th>\n",
       "      <th>...</th>\n",
       "      <th>deltaTm_Tm4-Tm2</th>\n",
       "      <th>GC_count_PBS</th>\n",
       "      <th>GC_count_RTT</th>\n",
       "      <th>GC_count_RT-PBS</th>\n",
       "      <th>GC_contents_PBS</th>\n",
       "      <th>GC_contents_RTT</th>\n",
       "      <th>GC_contents_RT-PBS</th>\n",
       "      <th>MFE_RT-PBS-polyT</th>\n",
       "      <th>MFE_Spacer</th>\n",
       "      <th>DeepSpCas9_score</th>\n",
       "    </tr>\n",
       "  </thead>\n",
       "  <tbody>\n",
       "    <tr>\n",
       "      <th>0</th>\n",
       "      <td>pegRNA_test</td>\n",
       "      <td>AAGACAACACCCTTGCCTTG</td>\n",
       "      <td>CGTCTCAGTTTCTGGGAGCTTTGAAAACTCCACAAGGCAAGGGTGT</td>\n",
       "      <td>11</td>\n",
       "      <td>35</td>\n",
       "      <td>46</td>\n",
       "      <td>34</td>\n",
       "      <td>1</td>\n",
       "      <td>1</td>\n",
       "      <td>ATAAAAGACAACACCCTTGCCTTGTGGAGTTTTCAAAGCTCCCAGA...</td>\n",
       "      <td>...</td>\n",
       "      <td>-340.104846</td>\n",
       "      <td>7</td>\n",
       "      <td>16</td>\n",
       "      <td>23</td>\n",
       "      <td>63.636364</td>\n",
       "      <td>45.714286</td>\n",
       "      <td>50.0</td>\n",
       "      <td>-10.4</td>\n",
       "      <td>-0.6</td>\n",
       "      <td>45.967541</td>\n",
       "    </tr>\n",
       "  </tbody>\n",
       "</table>\n",
       "<p>1 rows × 29 columns</p>\n",
       "</div>"
      ],
      "text/plain": [
       "            ID                Spacer  \\\n",
       "0  pegRNA_test  AAGACAACACCCTTGCCTTG   \n",
       "\n",
       "                                           RT-PBS  PBS_len  RTT_len  \\\n",
       "0  CGTCTCAGTTTCTGGGAGCTTTGAAAACTCCACAAGGCAAGGGTGT       11       35   \n",
       "\n",
       "   RT-PBS_len  Edit_pos  Edit_len  RHA_len  \\\n",
       "0          46        34         1        1   \n",
       "\n",
       "                                              Target  ... deltaTm_Tm4-Tm2  \\\n",
       "0  ATAAAAGACAACACCCTTGCCTTGTGGAGTTTTCAAAGCTCCCAGA...  ...     -340.104846   \n",
       "\n",
       "   GC_count_PBS  GC_count_RTT  GC_count_RT-PBS  GC_contents_PBS  \\\n",
       "0             7            16               23        63.636364   \n",
       "\n",
       "   GC_contents_RTT  GC_contents_RT-PBS  MFE_RT-PBS-polyT  MFE_Spacer  \\\n",
       "0        45.714286                50.0             -10.4        -0.6   \n",
       "\n",
       "   DeepSpCas9_score  \n",
       "0         45.967541  \n",
       "\n",
       "[1 rows x 29 columns]"
      ]
     },
     "execution_count": 6,
     "metadata": {},
     "output_type": "execute_result"
    }
   ],
   "source": [
    "target    = 'ATAAAAGACAACACCCTTGCCTTGTGGAGTTTTCAAAGCTCCCAGAAACTGAGAAGAACTATAACCTGCAAATG'\n",
    "pbs       = 'GGCAAGGGTGT'\n",
    "rtt       = 'CGTCTCAGTTTCTGGGAGCTTTGAAAACTCCACAA'\n",
    "edit_len  = 1\n",
    "edit_pos  = 34\n",
    "edit_type = 'sub'\n",
    "\n",
    "pegrna = DeepPrimeGuideRNA('pegRNA_test', target=target, pbs=pbs, rtt=rtt, \n",
    "                           edit_len=edit_len, edit_pos=edit_pos, edit_type=edit_type)\n",
    "\n",
    "pegrna.features"
   ]
  },
  {
   "cell_type": "markdown",
   "metadata": {},
   "source": [
    "`DeepPrimeGuideRNA`에서 예측 값은 `.predict`를 사용해서 얻을 수 있다. `DeepPrime.predict`와 다르게, `DeepPrimeGuideRNA.predict`는 예측 값이 단일 값으로 반환된다는 것을 주의하라. "
   ]
  },
  {
   "cell_type": "code",
   "execution_count": 7,
   "metadata": {},
   "outputs": [
    {
     "data": {
      "text/plain": [
       "3.768320083618164"
      ]
     },
     "execution_count": 7,
     "metadata": {},
     "output_type": "execute_result"
    }
   ],
   "source": [
    "pe2max_score = pegrna.predict('PE2max')\n",
    "\n",
    "pe2max_score"
   ]
  },
  {
   "cell_type": "code",
   "execution_count": null,
   "metadata": {},
   "outputs": [],
   "source": []
  }
 ],
 "metadata": {
  "kernelspec": {
   "display_name": "genet",
   "language": "python",
   "name": "python3"
  },
  "language_info": {
   "codemirror_mode": {
    "name": "ipython",
    "version": 3
   },
   "file_extension": ".py",
   "mimetype": "text/x-python",
   "name": "python",
   "nbconvert_exporter": "python",
   "pygments_lexer": "ipython3",
   "version": "3.9.18"
  }
 },
 "nbformat": 4,
 "nbformat_minor": 2
}
