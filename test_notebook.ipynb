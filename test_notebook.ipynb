{
 "cells": [
  {
   "cell_type": "code",
   "execution_count": 1,
   "metadata": {},
   "outputs": [],
   "source": [
    "from genet import analysis as ans"
   ]
  },
  {
   "cell_type": "code",
   "execution_count": 2,
   "metadata": {},
   "outputs": [
    {
     "name": "stdout",
     "output_type": "stream",
     "text": [
      "This is loadseq function\n"
     ]
    }
   ],
   "source": [
    "ans.loadseq()"
   ]
  },
  {
   "cell_type": "code",
   "execution_count": 3,
   "metadata": {},
   "outputs": [
    {
     "data": {
      "text/plain": [
       "'0.0.2'"
      ]
     },
     "execution_count": 3,
     "metadata": {},
     "output_type": "execute_result"
    }
   ],
   "source": [
    "import genet\n",
    "import pandas as pd\n",
    "\n",
    "genet.__version__"
   ]
  },
  {
   "cell_type": "code",
   "execution_count": 4,
   "metadata": {},
   "outputs": [
    {
     "ename": "TypeError",
     "evalue": "pred_spcas9() missing 1 required positional argument: 'list_target30'",
     "output_type": "error",
     "traceback": [
      "\u001b[1;31m---------------------------------------------------------------------------\u001b[0m",
      "\u001b[1;31mTypeError\u001b[0m                                 Traceback (most recent call last)",
      "\u001b[1;32md:\\github_project\\genet\\test_notebook.ipynb 셀 4\u001b[0m in \u001b[0;36m<cell line: 3>\u001b[1;34m()\u001b[0m\n\u001b[0;32m      <a href='vscode-notebook-cell:/d%3A/github_project/genet/test_notebook.ipynb#W3sZmlsZQ%3D%3D?line=0'>1</a>\u001b[0m \u001b[39mfrom\u001b[39;00m \u001b[39mgenet\u001b[39;00m \u001b[39mimport\u001b[39;00m predict \u001b[39mas\u001b[39;00m prd\n\u001b[1;32m----> <a href='vscode-notebook-cell:/d%3A/github_project/genet/test_notebook.ipynb#W3sZmlsZQ%3D%3D?line=2'>3</a>\u001b[0m prd\u001b[39m.\u001b[39;49mpred_spcas9()\n",
      "\u001b[1;31mTypeError\u001b[0m: pred_spcas9() missing 1 required positional argument: 'list_target30'"
     ]
    }
   ],
   "source": [
    "from genet import predict as prd\n",
    "\n",
    "prd.pred_spcas9()"
   ]
  },
  {
   "cell_type": "code",
   "execution_count": null,
   "metadata": {},
   "outputs": [],
   "source": []
  }
 ],
 "metadata": {
  "kernelspec": {
   "display_name": "Python 3.8.13 ('genet')",
   "language": "python",
   "name": "python3"
  },
  "language_info": {
   "codemirror_mode": {
    "name": "ipython",
    "version": 3
   },
   "file_extension": ".py",
   "mimetype": "text/x-python",
   "name": "python",
   "nbconvert_exporter": "python",
   "pygments_lexer": "ipython3",
   "version": "3.8.13"
  },
  "orig_nbformat": 4,
  "vscode": {
   "interpreter": {
    "hash": "356a7b1e3a665dc8f303b27f52f3d432dcd8eb377d9bf4389c2b9e3c4c8d46ee"
   }
  }
 },
 "nbformat": 4,
 "nbformat_minor": 2
}
