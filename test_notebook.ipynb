{
 "cells": [
  {
   "cell_type": "code",
   "execution_count": 6,
   "metadata": {},
   "outputs": [],
   "source": [
    "def mismatch (input, n):\n",
    "    \n",
    "    from itertools import combinations, product\n",
    "    \n",
    "    input = input.upper()\n",
    "    input_len = len(input)\n",
    "    a = list(input)\n",
    "    dic = {}\n",
    "    loc = list(combinations(range(input_len),n))\n",
    "    nucleo_dic = {\"A\": [\"T\",\"G\",\"C\"], \n",
    "                  \"T\": [\"A\",\"G\",\"C\"], \n",
    "                  \"G\": [\"A\",\"T\",\"C\"], \n",
    "                  \"C\": [\"A\",\"T\",\"G\"]}\n",
    "\n",
    "\n",
    "    for i in loc:\n",
    "        b = a.copy()\n",
    "        for k in range(len(i)):\n",
    "            b[i[k]] = nucleo_dic[b[i[k]]]\n",
    "        lst = list(product(*b))\n",
    "        for i in lst:\n",
    "            dic [''.join(i)] = input\n",
    "            \n",
    "    return dic\n",
    "\n",
    "\n",
    "def lower_list(input: list): return [v.lower() for v in input]\n",
    "\n",
    "def lower_dict(input: dict, key=True, value=True): \n",
    "    for k, v in input.items():\n",
    "        if key == True: k = k.lower()\n",
    "        if value == True: v = v.lower()\n",
    "        \n",
    "        \n",
    "        \n",
    "    return dict((k.lower(), v.lower) for k, v in input.items())\n",
    "    "
   ]
  },
  {
   "cell_type": "code",
   "execution_count": 8,
   "metadata": {},
   "outputs": [
    {
     "ename": "AttributeError",
     "evalue": "'list' object has no attribute 'lower'",
     "output_type": "error",
     "traceback": [
      "\u001b[1;31m---------------------------------------------------------------------------\u001b[0m",
      "\u001b[1;31mAttributeError\u001b[0m                            Traceback (most recent call last)",
      "\u001b[1;32md:\\github_project\\genet\\test_notebook.ipynb 셀 2\u001b[0m in \u001b[0;36m<cell line: 15>\u001b[1;34m()\u001b[0m\n\u001b[0;32m      <a href='vscode-notebook-cell:/d%3A/github_project/genet/test_notebook.ipynb#W4sZmlsZQ%3D%3D?line=7'>8</a>\u001b[0m     \u001b[39mreturn\u001b[39;00m \u001b[39mdict\u001b[39m((k\u001b[39m.\u001b[39mlower(), v\u001b[39m.\u001b[39mlower) \u001b[39mfor\u001b[39;00m k, v \u001b[39min\u001b[39;00m \u001b[39minput\u001b[39m\u001b[39m.\u001b[39mitems())\n\u001b[0;32m     <a href='vscode-notebook-cell:/d%3A/github_project/genet/test_notebook.ipynb#W4sZmlsZQ%3D%3D?line=9'>10</a>\u001b[0m nucleo_dic \u001b[39m=\u001b[39m {\u001b[39m\"\u001b[39m\u001b[39mA\u001b[39m\u001b[39m\"\u001b[39m: [\u001b[39m\"\u001b[39m\u001b[39mT\u001b[39m\u001b[39m\"\u001b[39m,\u001b[39m\"\u001b[39m\u001b[39mG\u001b[39m\u001b[39m\"\u001b[39m,\u001b[39m\"\u001b[39m\u001b[39mC\u001b[39m\u001b[39m\"\u001b[39m], \n\u001b[0;32m     <a href='vscode-notebook-cell:/d%3A/github_project/genet/test_notebook.ipynb#W4sZmlsZQ%3D%3D?line=10'>11</a>\u001b[0m                 \u001b[39m\"\u001b[39m\u001b[39mT\u001b[39m\u001b[39m\"\u001b[39m: [\u001b[39m\"\u001b[39m\u001b[39mA\u001b[39m\u001b[39m\"\u001b[39m,\u001b[39m\"\u001b[39m\u001b[39mG\u001b[39m\u001b[39m\"\u001b[39m,\u001b[39m\"\u001b[39m\u001b[39mC\u001b[39m\u001b[39m\"\u001b[39m], \n\u001b[0;32m     <a href='vscode-notebook-cell:/d%3A/github_project/genet/test_notebook.ipynb#W4sZmlsZQ%3D%3D?line=11'>12</a>\u001b[0m                 \u001b[39m\"\u001b[39m\u001b[39mG\u001b[39m\u001b[39m\"\u001b[39m: [\u001b[39m\"\u001b[39m\u001b[39mA\u001b[39m\u001b[39m\"\u001b[39m,\u001b[39m\"\u001b[39m\u001b[39mT\u001b[39m\u001b[39m\"\u001b[39m,\u001b[39m\"\u001b[39m\u001b[39mC\u001b[39m\u001b[39m\"\u001b[39m], \n\u001b[0;32m     <a href='vscode-notebook-cell:/d%3A/github_project/genet/test_notebook.ipynb#W4sZmlsZQ%3D%3D?line=12'>13</a>\u001b[0m                 \u001b[39m\"\u001b[39m\u001b[39mC\u001b[39m\u001b[39m\"\u001b[39m: [\u001b[39m\"\u001b[39m\u001b[39mA\u001b[39m\u001b[39m\"\u001b[39m,\u001b[39m\"\u001b[39m\u001b[39mT\u001b[39m\u001b[39m\"\u001b[39m,\u001b[39m\"\u001b[39m\u001b[39mG\u001b[39m\u001b[39m\"\u001b[39m]}\n\u001b[1;32m---> <a href='vscode-notebook-cell:/d%3A/github_project/genet/test_notebook.ipynb#W4sZmlsZQ%3D%3D?line=14'>15</a>\u001b[0m new_dict \u001b[39m=\u001b[39m lower_dict(nucleo_dic)\n\u001b[0;32m     <a href='vscode-notebook-cell:/d%3A/github_project/genet/test_notebook.ipynb#W4sZmlsZQ%3D%3D?line=15'>16</a>\u001b[0m new_dict\n",
      "\u001b[1;32md:\\github_project\\genet\\test_notebook.ipynb 셀 2\u001b[0m in \u001b[0;36mlower_dict\u001b[1;34m(input, key, value)\u001b[0m\n\u001b[0;32m      <a href='vscode-notebook-cell:/d%3A/github_project/genet/test_notebook.ipynb#W4sZmlsZQ%3D%3D?line=1'>2</a>\u001b[0m \u001b[39mfor\u001b[39;00m k, v \u001b[39min\u001b[39;00m \u001b[39minput\u001b[39m\u001b[39m.\u001b[39mitems():\n\u001b[0;32m      <a href='vscode-notebook-cell:/d%3A/github_project/genet/test_notebook.ipynb#W4sZmlsZQ%3D%3D?line=2'>3</a>\u001b[0m     \u001b[39mif\u001b[39;00m key \u001b[39m==\u001b[39m \u001b[39mTrue\u001b[39;00m: k \u001b[39m=\u001b[39m k\u001b[39m.\u001b[39mlower()\n\u001b[1;32m----> <a href='vscode-notebook-cell:/d%3A/github_project/genet/test_notebook.ipynb#W4sZmlsZQ%3D%3D?line=3'>4</a>\u001b[0m     \u001b[39mif\u001b[39;00m value \u001b[39m==\u001b[39m \u001b[39mTrue\u001b[39;00m: v \u001b[39m=\u001b[39m v\u001b[39m.\u001b[39;49mlower()\n\u001b[0;32m      <a href='vscode-notebook-cell:/d%3A/github_project/genet/test_notebook.ipynb#W4sZmlsZQ%3D%3D?line=7'>8</a>\u001b[0m \u001b[39mreturn\u001b[39;00m \u001b[39mdict\u001b[39m((k\u001b[39m.\u001b[39mlower(), v\u001b[39m.\u001b[39mlower) \u001b[39mfor\u001b[39;00m k, v \u001b[39min\u001b[39;00m \u001b[39minput\u001b[39m\u001b[39m.\u001b[39mitems())\n",
      "\u001b[1;31mAttributeError\u001b[0m: 'list' object has no attribute 'lower'"
     ]
    }
   ],
   "source": [
    "def lower_dict(input: dict, key=True, value=True): \n",
    "    for k, v in input.items():\n",
    "        if key == True: k = k.lower()\n",
    "        if value == True: v = v.lower()\n",
    "        \n",
    "        \n",
    "        \n",
    "    return dict((k.lower(), v.lower) for k, v in input.items())\n",
    "\n",
    "nucleo_dic = {\"A\": [\"T\",\"G\",\"C\"], \n",
    "                \"T\": [\"A\",\"G\",\"C\"], \n",
    "                \"G\": [\"A\",\"T\",\"C\"], \n",
    "                \"C\": [\"A\",\"T\",\"G\"]}\n",
    "\n",
    "new_dict = lower_dict(nucleo_dic)\n",
    "new_dict"
   ]
  },
  {
   "cell_type": "code",
   "execution_count": 7,
   "metadata": {},
   "outputs": [
    {
     "data": {
      "text/plain": [
       "['t', 'g', 'c']"
      ]
     },
     "execution_count": 7,
     "metadata": {},
     "output_type": "execute_result"
    }
   ],
   "source": [
    "list_ori = [\"T\",\"G\",\"C\"]\n",
    "list_low = lower_list(list_ori)\n",
    "list_low"
   ]
  },
  {
   "cell_type": "code",
   "execution_count": 4,
   "metadata": {},
   "outputs": [
    {
     "data": {
      "text/plain": [
       "{'TTCGTAGCTAGTCGATCGCGCCGTA': 'ATCGTAGCTAGTCGATCGCGCCGTA',\n",
       " 'GTCGTAGCTAGTCGATCGCGCCGTA': 'ATCGTAGCTAGTCGATCGCGCCGTA',\n",
       " 'CTCGTAGCTAGTCGATCGCGCCGTA': 'ATCGTAGCTAGTCGATCGCGCCGTA',\n",
       " 'AACGTAGCTAGTCGATCGCGCCGTA': 'ATCGTAGCTAGTCGATCGCGCCGTA',\n",
       " 'AGCGTAGCTAGTCGATCGCGCCGTA': 'ATCGTAGCTAGTCGATCGCGCCGTA',\n",
       " 'ACCGTAGCTAGTCGATCGCGCCGTA': 'ATCGTAGCTAGTCGATCGCGCCGTA',\n",
       " 'ATAGTAGCTAGTCGATCGCGCCGTA': 'ATCGTAGCTAGTCGATCGCGCCGTA',\n",
       " 'ATTGTAGCTAGTCGATCGCGCCGTA': 'ATCGTAGCTAGTCGATCGCGCCGTA',\n",
       " 'ATGGTAGCTAGTCGATCGCGCCGTA': 'ATCGTAGCTAGTCGATCGCGCCGTA',\n",
       " 'ATCATAGCTAGTCGATCGCGCCGTA': 'ATCGTAGCTAGTCGATCGCGCCGTA',\n",
       " 'ATCTTAGCTAGTCGATCGCGCCGTA': 'ATCGTAGCTAGTCGATCGCGCCGTA',\n",
       " 'ATCCTAGCTAGTCGATCGCGCCGTA': 'ATCGTAGCTAGTCGATCGCGCCGTA',\n",
       " 'ATCGAAGCTAGTCGATCGCGCCGTA': 'ATCGTAGCTAGTCGATCGCGCCGTA',\n",
       " 'ATCGGAGCTAGTCGATCGCGCCGTA': 'ATCGTAGCTAGTCGATCGCGCCGTA',\n",
       " 'ATCGCAGCTAGTCGATCGCGCCGTA': 'ATCGTAGCTAGTCGATCGCGCCGTA',\n",
       " 'ATCGTTGCTAGTCGATCGCGCCGTA': 'ATCGTAGCTAGTCGATCGCGCCGTA',\n",
       " 'ATCGTGGCTAGTCGATCGCGCCGTA': 'ATCGTAGCTAGTCGATCGCGCCGTA',\n",
       " 'ATCGTCGCTAGTCGATCGCGCCGTA': 'ATCGTAGCTAGTCGATCGCGCCGTA',\n",
       " 'ATCGTAACTAGTCGATCGCGCCGTA': 'ATCGTAGCTAGTCGATCGCGCCGTA',\n",
       " 'ATCGTATCTAGTCGATCGCGCCGTA': 'ATCGTAGCTAGTCGATCGCGCCGTA',\n",
       " 'ATCGTACCTAGTCGATCGCGCCGTA': 'ATCGTAGCTAGTCGATCGCGCCGTA',\n",
       " 'ATCGTAGATAGTCGATCGCGCCGTA': 'ATCGTAGCTAGTCGATCGCGCCGTA',\n",
       " 'ATCGTAGTTAGTCGATCGCGCCGTA': 'ATCGTAGCTAGTCGATCGCGCCGTA',\n",
       " 'ATCGTAGGTAGTCGATCGCGCCGTA': 'ATCGTAGCTAGTCGATCGCGCCGTA',\n",
       " 'ATCGTAGCAAGTCGATCGCGCCGTA': 'ATCGTAGCTAGTCGATCGCGCCGTA',\n",
       " 'ATCGTAGCGAGTCGATCGCGCCGTA': 'ATCGTAGCTAGTCGATCGCGCCGTA',\n",
       " 'ATCGTAGCCAGTCGATCGCGCCGTA': 'ATCGTAGCTAGTCGATCGCGCCGTA',\n",
       " 'ATCGTAGCTTGTCGATCGCGCCGTA': 'ATCGTAGCTAGTCGATCGCGCCGTA',\n",
       " 'ATCGTAGCTGGTCGATCGCGCCGTA': 'ATCGTAGCTAGTCGATCGCGCCGTA',\n",
       " 'ATCGTAGCTCGTCGATCGCGCCGTA': 'ATCGTAGCTAGTCGATCGCGCCGTA',\n",
       " 'ATCGTAGCTAATCGATCGCGCCGTA': 'ATCGTAGCTAGTCGATCGCGCCGTA',\n",
       " 'ATCGTAGCTATTCGATCGCGCCGTA': 'ATCGTAGCTAGTCGATCGCGCCGTA',\n",
       " 'ATCGTAGCTACTCGATCGCGCCGTA': 'ATCGTAGCTAGTCGATCGCGCCGTA',\n",
       " 'ATCGTAGCTAGACGATCGCGCCGTA': 'ATCGTAGCTAGTCGATCGCGCCGTA',\n",
       " 'ATCGTAGCTAGGCGATCGCGCCGTA': 'ATCGTAGCTAGTCGATCGCGCCGTA',\n",
       " 'ATCGTAGCTAGCCGATCGCGCCGTA': 'ATCGTAGCTAGTCGATCGCGCCGTA',\n",
       " 'ATCGTAGCTAGTAGATCGCGCCGTA': 'ATCGTAGCTAGTCGATCGCGCCGTA',\n",
       " 'ATCGTAGCTAGTTGATCGCGCCGTA': 'ATCGTAGCTAGTCGATCGCGCCGTA',\n",
       " 'ATCGTAGCTAGTGGATCGCGCCGTA': 'ATCGTAGCTAGTCGATCGCGCCGTA',\n",
       " 'ATCGTAGCTAGTCAATCGCGCCGTA': 'ATCGTAGCTAGTCGATCGCGCCGTA',\n",
       " 'ATCGTAGCTAGTCTATCGCGCCGTA': 'ATCGTAGCTAGTCGATCGCGCCGTA',\n",
       " 'ATCGTAGCTAGTCCATCGCGCCGTA': 'ATCGTAGCTAGTCGATCGCGCCGTA',\n",
       " 'ATCGTAGCTAGTCGTTCGCGCCGTA': 'ATCGTAGCTAGTCGATCGCGCCGTA',\n",
       " 'ATCGTAGCTAGTCGGTCGCGCCGTA': 'ATCGTAGCTAGTCGATCGCGCCGTA',\n",
       " 'ATCGTAGCTAGTCGCTCGCGCCGTA': 'ATCGTAGCTAGTCGATCGCGCCGTA',\n",
       " 'ATCGTAGCTAGTCGAACGCGCCGTA': 'ATCGTAGCTAGTCGATCGCGCCGTA',\n",
       " 'ATCGTAGCTAGTCGAGCGCGCCGTA': 'ATCGTAGCTAGTCGATCGCGCCGTA',\n",
       " 'ATCGTAGCTAGTCGACCGCGCCGTA': 'ATCGTAGCTAGTCGATCGCGCCGTA',\n",
       " 'ATCGTAGCTAGTCGATAGCGCCGTA': 'ATCGTAGCTAGTCGATCGCGCCGTA',\n",
       " 'ATCGTAGCTAGTCGATTGCGCCGTA': 'ATCGTAGCTAGTCGATCGCGCCGTA',\n",
       " 'ATCGTAGCTAGTCGATGGCGCCGTA': 'ATCGTAGCTAGTCGATCGCGCCGTA',\n",
       " 'ATCGTAGCTAGTCGATCACGCCGTA': 'ATCGTAGCTAGTCGATCGCGCCGTA',\n",
       " 'ATCGTAGCTAGTCGATCTCGCCGTA': 'ATCGTAGCTAGTCGATCGCGCCGTA',\n",
       " 'ATCGTAGCTAGTCGATCCCGCCGTA': 'ATCGTAGCTAGTCGATCGCGCCGTA',\n",
       " 'ATCGTAGCTAGTCGATCGAGCCGTA': 'ATCGTAGCTAGTCGATCGCGCCGTA',\n",
       " 'ATCGTAGCTAGTCGATCGTGCCGTA': 'ATCGTAGCTAGTCGATCGCGCCGTA',\n",
       " 'ATCGTAGCTAGTCGATCGGGCCGTA': 'ATCGTAGCTAGTCGATCGCGCCGTA',\n",
       " 'ATCGTAGCTAGTCGATCGCACCGTA': 'ATCGTAGCTAGTCGATCGCGCCGTA',\n",
       " 'ATCGTAGCTAGTCGATCGCTCCGTA': 'ATCGTAGCTAGTCGATCGCGCCGTA',\n",
       " 'ATCGTAGCTAGTCGATCGCCCCGTA': 'ATCGTAGCTAGTCGATCGCGCCGTA',\n",
       " 'ATCGTAGCTAGTCGATCGCGACGTA': 'ATCGTAGCTAGTCGATCGCGCCGTA',\n",
       " 'ATCGTAGCTAGTCGATCGCGTCGTA': 'ATCGTAGCTAGTCGATCGCGCCGTA',\n",
       " 'ATCGTAGCTAGTCGATCGCGGCGTA': 'ATCGTAGCTAGTCGATCGCGCCGTA',\n",
       " 'ATCGTAGCTAGTCGATCGCGCAGTA': 'ATCGTAGCTAGTCGATCGCGCCGTA',\n",
       " 'ATCGTAGCTAGTCGATCGCGCTGTA': 'ATCGTAGCTAGTCGATCGCGCCGTA',\n",
       " 'ATCGTAGCTAGTCGATCGCGCGGTA': 'ATCGTAGCTAGTCGATCGCGCCGTA',\n",
       " 'ATCGTAGCTAGTCGATCGCGCCATA': 'ATCGTAGCTAGTCGATCGCGCCGTA',\n",
       " 'ATCGTAGCTAGTCGATCGCGCCTTA': 'ATCGTAGCTAGTCGATCGCGCCGTA',\n",
       " 'ATCGTAGCTAGTCGATCGCGCCCTA': 'ATCGTAGCTAGTCGATCGCGCCGTA',\n",
       " 'ATCGTAGCTAGTCGATCGCGCCGAA': 'ATCGTAGCTAGTCGATCGCGCCGTA',\n",
       " 'ATCGTAGCTAGTCGATCGCGCCGGA': 'ATCGTAGCTAGTCGATCGCGCCGTA',\n",
       " 'ATCGTAGCTAGTCGATCGCGCCGCA': 'ATCGTAGCTAGTCGATCGCGCCGTA',\n",
       " 'ATCGTAGCTAGTCGATCGCGCCGTT': 'ATCGTAGCTAGTCGATCGCGCCGTA',\n",
       " 'ATCGTAGCTAGTCGATCGCGCCGTG': 'ATCGTAGCTAGTCGATCGCGCCGTA',\n",
       " 'ATCGTAGCTAGTCGATCGCGCCGTC': 'ATCGTAGCTAGTCGATCGCGCCGTA'}"
      ]
     },
     "execution_count": 4,
     "metadata": {},
     "output_type": "execute_result"
    }
   ],
   "source": [
    "seq = 'atcgtagctagtcgatcgcgccgta'\n",
    "\n",
    "dict_out = mismatch(seq, 1)\n",
    "dict_out"
   ]
  },
  {
   "cell_type": "code",
   "execution_count": null,
   "metadata": {},
   "outputs": [],
   "source": []
  }
 ],
 "metadata": {
  "kernelspec": {
   "display_name": "Python 3.9.7 64-bit ('Anaconda3')",
   "language": "python",
   "name": "python3"
  },
  "language_info": {
   "codemirror_mode": {
    "name": "ipython",
    "version": 3
   },
   "file_extension": ".py",
   "mimetype": "text/x-python",
   "name": "python",
   "nbconvert_exporter": "python",
   "pygments_lexer": "ipython3",
   "version": "3.9.7"
  },
  "orig_nbformat": 4,
  "vscode": {
   "interpreter": {
    "hash": "81e374b3269ecf0079033d8d54c3b8445e57606735e601277613154e83e18b39"
   }
  }
 },
 "nbformat": 4,
 "nbformat_minor": 2
}
