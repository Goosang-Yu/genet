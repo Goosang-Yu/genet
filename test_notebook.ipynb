{
 "cells": [
  {
   "cell_type": "code",
   "execution_count": 2,
   "metadata": {},
   "outputs": [],
   "source": [
    "from genet.design import *\n",
    "import pandas as pd"
   ]
  },
  {
   "cell_type": "code",
   "execution_count": 12,
   "metadata": {},
   "outputs": [],
   "source": [
    "import pyensembl, os, sys\n",
    "ensembl = pyensembl.EnsemblRelease(release=107)"
   ]
  },
  {
   "cell_type": "code",
   "execution_count": 36,
   "metadata": {},
   "outputs": [],
   "source": [
    "def not_found_ensembl_db(ensemlb_ver, species):\n",
    "    print('''\n",
    "------------------------------------------------------\n",
    "Don't worry, this is NOT ERROR :)\n",
    "\n",
    "Ensembl database not found.\n",
    "We are installing ensembl data first by PyEnsembl.\n",
    "It'll take few minutes, and about 1.5Gb storage volumns. \n",
    "\n",
    "You can find the path of Ensembl data using this:\n",
    ">>> pyensembl list\n",
    "\n",
    "You can change the path of Ensembl data by adding this on your scipt:\n",
    "```python\n",
    "import os\n",
    "os.environ['PYENSEMBL_CACHE_DIR'] = '/custom/cache/dir'\n",
    "```\n",
    "------------------------------------------------------\n",
    "\n",
    "    ''')\n",
    "\n",
    "    install_ok = input('Install Ensembl data on your disk? [y] / n') or 'y'\n",
    "\n",
    "    if install_ok == 'y' or install_ok == 'Y':\n",
    "        os.system('pyensembl install --release %s --species %s' % (str(ensemlb_ver), species))\n",
    "        print('Ensembl database installed - release ver.%s | Species - %s' % (ensemlb_ver, species))\n",
    "\n",
    "    elif install_ok =='n' or install_ok == 'N':\n",
    "        print('Not installed - Exit()')\n",
    "        sys.exit()\n",
    "    else:\n",
    "        print('Input error')\n",
    "        sys.exit()\n",
    "\n",
    "# def not_found_ensembl_db: End"
   ]
  },
  {
   "cell_type": "code",
   "execution_count": 37,
   "metadata": {},
   "outputs": [
    {
     "name": "stdout",
     "output_type": "stream",
     "text": [
      "Ensembl database - release ver.107 | Species - homo_sapiens\n"
     ]
    },
    {
     "data": {
      "text/plain": [
       "[Gene(gene_id='ENSG00000188290', gene_name='HES4', biotype='protein_coding', contig='1', start=998962, end=1000172, strand='-', genome='GRCh38')]"
      ]
     },
     "execution_count": 37,
     "metadata": {},
     "output_type": "execute_result"
    }
   ],
   "source": [
    "ensemlb_ver = 107\n",
    "species = 'homo_sapiens'\n",
    "\n",
    "try:\n",
    "    print('Ensembl database - release ver.%s | Species - %s' % (ensemlb_ver, species))\n",
    "    genes = ensembl.genes_at_locus(contig='1', position=1000000)\n",
    "\n",
    "except: not_found_ensembl_db(ensemlb_ver, species) # if ensembl DB was not installed yet.\n",
    "    \n",
    "\n",
    "genes"
   ]
  },
  {
   "cell_type": "code",
   "execution_count": 13,
   "metadata": {},
   "outputs": [],
   "source": [
    "genes = ensembl.genes_at_locus(contig='1', position=1000000)"
   ]
  },
  {
   "cell_type": "code",
   "execution_count": 20,
   "metadata": {},
   "outputs": [],
   "source": [
    "ace2 = ensembl.genes_by_name('ACE2')"
   ]
  },
  {
   "cell_type": "code",
   "execution_count": 17,
   "metadata": {},
   "outputs": [
    {
     "data": {
      "text/plain": [
       "[Gene(gene_id='ENSG00000130234', gene_name='ACE2', biotype='protein_coding', contig='X', start=15494566, end=15607236, strand='-', genome='GRCh38')]"
      ]
     },
     "execution_count": 17,
     "metadata": {},
     "output_type": "execute_result"
    }
   ],
   "source": [
    "ace2"
   ]
  },
  {
   "cell_type": "code",
   "execution_count": 43,
   "metadata": {},
   "outputs": [
    {
     "name": "stdout",
     "output_type": "stream",
     "text": [
      "HPRT1-201\n",
      "Transcript(transcript_id='ENST00000298556', transcript_name='HPRT1-201', gene_id='ENSG00000165704', biotype='protein_coding', contig='X', start=134460165, end=134500668, strand='+', genome='GRCh38')\n"
     ]
    }
   ],
   "source": [
    "ace2_ts = ensembl.transcript_name_of_transcript_id('ENST00000298556')\n",
    "print(ace2_ts)\n",
    "\n",
    "ace2_ts = ensembl.transcript_by_id('ENST00000298556')\n",
    "print(ace2_ts)\n"
   ]
  },
  {
   "cell_type": "code",
   "execution_count": 44,
   "metadata": {},
   "outputs": [
    {
     "data": {
      "text/plain": [
       "['ENSE00001913528',\n",
       " 'ENSE00003489858',\n",
       " 'ENSE00003623041',\n",
       " 'ENSE00003674574',\n",
       " 'ENSE00003522510',\n",
       " 'ENSE00003576599',\n",
       " 'ENSE00003676328',\n",
       " 'ENSE00003495603',\n",
       " 'ENSE00001904310']"
      ]
     },
     "execution_count": 44,
     "metadata": {},
     "output_type": "execute_result"
    }
   ],
   "source": [
    "exon_ids = ensembl.exon_ids_of_transcript_id('ENST00000298556')\n",
    "exon_ids"
   ]
  },
  {
   "cell_type": "code",
   "execution_count": 45,
   "metadata": {},
   "outputs": [
    {
     "data": {
      "text/plain": [
       "Exon(exon_id='ENSE00001913528', gene_id='ENSG00000165704', gene_name='HPRT1', contig='X', start=134460165, end=134460338, strand='+')"
      ]
     },
     "execution_count": 45,
     "metadata": {},
     "output_type": "execute_result"
    }
   ],
   "source": [
    "ex = ensembl.exon_by_id('ENSE00001913528')\n",
    "ex"
   ]
  },
  {
   "cell_type": "code",
   "execution_count": 46,
   "metadata": {},
   "outputs": [
    {
     "name": "stdout",
     "output_type": "stream",
     "text": [
      "AGCTTCAGGCGGCTGCGACGAGCCCTCAGGCGAACCTCTCGGCTTTCCCGCGCGGCGCCGCCTCTTGCTGCGCCTCCGCCTCCTCCTCTGCTCCGCCACCGGCTTCCTCCTCCTGAGCAGTCAGCCCGCGCGCCGGCCGGCTCCGTTATGGCGACCCGCAGCCCTGGCGTCGTG\n"
     ]
    }
   ],
   "source": [
    "import requests, sys\n",
    " \n",
    "server = \"https://rest.ensembl.org\"\n",
    "ext = \"/sequence/id/ENSE00001913528?\"\n",
    " \n",
    "r = requests.get(server + ext, headers={ \"Content-Type\" : \"text/plain\"})\n",
    " \n",
    "if not r.ok:\n",
    "  r.raise_for_status()\n",
    "  sys.exit()\n",
    " \n",
    " \n",
    "print(r.text)"
   ]
  },
  {
   "cell_type": "code",
   "execution_count": 61,
   "metadata": {},
   "outputs": [
    {
     "name": "stdout",
     "output_type": "stream",
     "text": [
      "Accession:  ['KT225476']\n",
      "Organism :  Middle East respiratory syndrome-related coronavirus\n",
      "Size : 29809\n"
     ]
    }
   ],
   "source": [
    "from Bio import Entrez\n",
    "from Bio import GenBank\n",
    "\n",
    "Entrez.email = \"gsyu93@gmail.com\" \n",
    "\n",
    "handle = Entrez.efetch(db='nucleotide', id='KT225476', rettype='gb', retmode='text')\n",
    "\n",
    "# nucleotide 라는 DB에서 KT225476이라는 id를 가진 GenBank 파일을 읽는 객체\n",
    "record = GenBank.read(handle)\n",
    "\n",
    "# parsing을 위해 record의 object 이용\n",
    "print(\"Accession: \", record.accession) # accession id 출력\n",
    "print('Organism : ', record.organism) # organism 출력\n",
    "print('Size :', record.size) # record가 읽은 서열의 길이"
   ]
  },
  {
   "cell_type": "code",
   "execution_count": 51,
   "metadata": {},
   "outputs": [
    {
     "name": "stdout",
     "output_type": "stream",
     "text": [
      "dict_keys(['DbName', 'MenuName', 'Description', 'DbBuild', 'Count', 'LastUpdate', 'FieldList', 'LinkList'])\n",
      "61169198\n",
      "2022/09/05 06:52\n"
     ]
    }
   ],
   "source": [
    "\n",
    "handle = Entrez.efetch(db='gene', id='KT225476', rettype='gb', retmode='text')\n",
    "\n",
    "# nucleotide 라는 DB에서 KT225476이라는 id를 가진 GenBank 파일을 읽는 객체\n",
    "record = GenBank.read(handle)\n",
    "\n",
    "# parsing을 위해 record의 object 이용\n",
    "print(\"Accession: \", record.accession) # accession id 출력\n",
    "print('Organism : ', record.organism) # organism 출력\n",
    "print('Size :', record.size) # record가 읽은 서열의 길이"
   ]
  },
  {
   "cell_type": "code",
   "execution_count": null,
   "metadata": {},
   "outputs": [],
   "source": []
  }
 ],
 "metadata": {
  "kernelspec": {
   "display_name": "Python 3.8.13 ('genet')",
   "language": "python",
   "name": "python3"
  },
  "language_info": {
   "codemirror_mode": {
    "name": "ipython",
    "version": 3
   },
   "file_extension": ".py",
   "mimetype": "text/x-python",
   "name": "python",
   "nbconvert_exporter": "python",
   "pygments_lexer": "ipython3",
   "version": "3.8.13"
  },
  "orig_nbformat": 4,
  "vscode": {
   "interpreter": {
    "hash": "356a7b1e3a665dc8f303b27f52f3d432dcd8eb377d9bf4389c2b9e3c4c8d46ee"
   }
  }
 },
 "nbformat": 4,
 "nbformat_minor": 2
}
